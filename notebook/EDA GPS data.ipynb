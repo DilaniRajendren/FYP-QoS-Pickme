{
 "cells": [
  {
   "cell_type": "code",
   "execution_count": 2,
   "id": "f103c624",
   "metadata": {},
   "outputs": [],
   "source": [
    "import numpy as np\n",
    "import pandas as pd\n",
    "import matplotlib.pyplot as plt\n",
    "import seaborn as sns\n",
    "import datetime\n",
    "sns.set()"
   ]
  },
  {
   "cell_type": "code",
   "execution_count": 3,
   "id": "dbab778c",
   "metadata": {},
   "outputs": [],
   "source": [
    "df=pd.read_csv(\"21days_raw_data.csv\")"
   ]
  },
  {
   "cell_type": "code",
   "execution_count": 4,
   "id": "137a30f3",
   "metadata": {},
   "outputs": [
    {
     "data": {
      "text/plain": [
       "(551136, 9)"
      ]
     },
     "execution_count": 4,
     "metadata": {},
     "output_type": "execute_result"
    }
   ],
   "source": [
    "df.shape"
   ]
  },
  {
   "cell_type": "code",
   "execution_count": 5,
   "id": "9a988ae6",
   "metadata": {},
   "outputs": [
    {
     "data": {
      "text/plain": [
       "Index(['Unnamed: 0', 'driver_id', 'tripid', 'points', 'Actualduration',\n",
       "       'AverageP', 'distance', 'duration', 'Unnamed: 0.1'],\n",
       "      dtype='object')"
      ]
     },
     "execution_count": 5,
     "metadata": {},
     "output_type": "execute_result"
    }
   ],
   "source": [
    "df.columns"
   ]
  },
  {
   "cell_type": "code",
   "execution_count": 6,
   "id": "ef5ec188",
   "metadata": {},
   "outputs": [
    {
     "data": {
      "text/plain": [
       "Unnamed: 0          int64\n",
       "driver_id          object\n",
       "tripid              int64\n",
       "points              int64\n",
       "Actualduration    float64\n",
       "AverageP          float64\n",
       "distance          float64\n",
       "duration          float64\n",
       "Unnamed: 0.1      float64\n",
       "dtype: object"
      ]
     },
     "execution_count": 6,
     "metadata": {},
     "output_type": "execute_result"
    }
   ],
   "source": [
    "df.dtypes"
   ]
  },
  {
   "cell_type": "code",
   "execution_count": 7,
   "id": "82c0366c",
   "metadata": {},
   "outputs": [
    {
     "data": {
      "text/html": [
       "<div>\n",
       "<style scoped>\n",
       "    .dataframe tbody tr th:only-of-type {\n",
       "        vertical-align: middle;\n",
       "    }\n",
       "\n",
       "    .dataframe tbody tr th {\n",
       "        vertical-align: top;\n",
       "    }\n",
       "\n",
       "    .dataframe thead th {\n",
       "        text-align: right;\n",
       "    }\n",
       "</style>\n",
       "<table border=\"1\" class=\"dataframe\">\n",
       "  <thead>\n",
       "    <tr style=\"text-align: right;\">\n",
       "      <th></th>\n",
       "      <th>Unnamed: 0</th>\n",
       "      <th>driver_id</th>\n",
       "      <th>tripid</th>\n",
       "      <th>points</th>\n",
       "      <th>Actualduration</th>\n",
       "      <th>AverageP</th>\n",
       "      <th>distance</th>\n",
       "      <th>duration</th>\n",
       "      <th>Unnamed: 0.1</th>\n",
       "    </tr>\n",
       "  </thead>\n",
       "  <tbody>\n",
       "    <tr>\n",
       "      <th>0</th>\n",
       "      <td>0</td>\n",
       "      <td>0001da624eada828c3f744b73bacd8e15cf0d3e288bd09...</td>\n",
       "      <td>181813898</td>\n",
       "      <td>62</td>\n",
       "      <td>631.0</td>\n",
       "      <td>10.177419</td>\n",
       "      <td>2.04</td>\n",
       "      <td>621.0</td>\n",
       "      <td>NaN</td>\n",
       "    </tr>\n",
       "    <tr>\n",
       "      <th>1</th>\n",
       "      <td>1</td>\n",
       "      <td>0001da624eada828c3f744b73bacd8e15cf0d3e288bd09...</td>\n",
       "      <td>181816907</td>\n",
       "      <td>453</td>\n",
       "      <td>5211.0</td>\n",
       "      <td>11.503311</td>\n",
       "      <td>18.02</td>\n",
       "      <td>5195.0</td>\n",
       "      <td>NaN</td>\n",
       "    </tr>\n",
       "    <tr>\n",
       "      <th>2</th>\n",
       "      <td>2</td>\n",
       "      <td>0001da624eada828c3f744b73bacd8e15cf0d3e288bd09...</td>\n",
       "      <td>181844705</td>\n",
       "      <td>91</td>\n",
       "      <td>911.0</td>\n",
       "      <td>10.010989</td>\n",
       "      <td>3.12</td>\n",
       "      <td>900.0</td>\n",
       "      <td>NaN</td>\n",
       "    </tr>\n",
       "    <tr>\n",
       "      <th>3</th>\n",
       "      <td>3</td>\n",
       "      <td>0001da624eada828c3f744b73bacd8e15cf0d3e288bd09...</td>\n",
       "      <td>181861325</td>\n",
       "      <td>76</td>\n",
       "      <td>769.0</td>\n",
       "      <td>10.118421</td>\n",
       "      <td>0.54</td>\n",
       "      <td>750.0</td>\n",
       "      <td>NaN</td>\n",
       "    </tr>\n",
       "    <tr>\n",
       "      <th>4</th>\n",
       "      <td>4</td>\n",
       "      <td>0001da624eada828c3f744b73bacd8e15cf0d3e288bd09...</td>\n",
       "      <td>181871430</td>\n",
       "      <td>54</td>\n",
       "      <td>546.0</td>\n",
       "      <td>10.111111</td>\n",
       "      <td>3.33</td>\n",
       "      <td>530.0</td>\n",
       "      <td>NaN</td>\n",
       "    </tr>\n",
       "  </tbody>\n",
       "</table>\n",
       "</div>"
      ],
      "text/plain": [
       "   Unnamed: 0                                          driver_id     tripid  \\\n",
       "0           0  0001da624eada828c3f744b73bacd8e15cf0d3e288bd09...  181813898   \n",
       "1           1  0001da624eada828c3f744b73bacd8e15cf0d3e288bd09...  181816907   \n",
       "2           2  0001da624eada828c3f744b73bacd8e15cf0d3e288bd09...  181844705   \n",
       "3           3  0001da624eada828c3f744b73bacd8e15cf0d3e288bd09...  181861325   \n",
       "4           4  0001da624eada828c3f744b73bacd8e15cf0d3e288bd09...  181871430   \n",
       "\n",
       "   points  Actualduration   AverageP  distance  duration  Unnamed: 0.1  \n",
       "0      62           631.0  10.177419      2.04     621.0           NaN  \n",
       "1     453          5211.0  11.503311     18.02    5195.0           NaN  \n",
       "2      91           911.0  10.010989      3.12     900.0           NaN  \n",
       "3      76           769.0  10.118421      0.54     750.0           NaN  \n",
       "4      54           546.0  10.111111      3.33     530.0           NaN  "
      ]
     },
     "execution_count": 7,
     "metadata": {},
     "output_type": "execute_result"
    }
   ],
   "source": [
    "df.head()"
   ]
  },
  {
   "cell_type": "code",
   "execution_count": 8,
   "id": "94d388c3",
   "metadata": {},
   "outputs": [],
   "source": [
    "df.drop(columns=['Unnamed: 0','Unnamed: 0.1'],inplace=True ) "
   ]
  },
  {
   "cell_type": "code",
   "execution_count": 9,
   "id": "f57c81d6",
   "metadata": {},
   "outputs": [
    {
     "data": {
      "text/html": [
       "<div>\n",
       "<style scoped>\n",
       "    .dataframe tbody tr th:only-of-type {\n",
       "        vertical-align: middle;\n",
       "    }\n",
       "\n",
       "    .dataframe tbody tr th {\n",
       "        vertical-align: top;\n",
       "    }\n",
       "\n",
       "    .dataframe thead th {\n",
       "        text-align: right;\n",
       "    }\n",
       "</style>\n",
       "<table border=\"1\" class=\"dataframe\">\n",
       "  <thead>\n",
       "    <tr style=\"text-align: right;\">\n",
       "      <th></th>\n",
       "      <th>driver_id</th>\n",
       "      <th>tripid</th>\n",
       "      <th>points</th>\n",
       "      <th>Actualduration</th>\n",
       "      <th>AverageP</th>\n",
       "      <th>distance</th>\n",
       "      <th>duration</th>\n",
       "    </tr>\n",
       "  </thead>\n",
       "  <tbody>\n",
       "    <tr>\n",
       "      <th>0</th>\n",
       "      <td>0001da624eada828c3f744b73bacd8e15cf0d3e288bd09...</td>\n",
       "      <td>181813898</td>\n",
       "      <td>62</td>\n",
       "      <td>631.0</td>\n",
       "      <td>10.177419</td>\n",
       "      <td>2.04</td>\n",
       "      <td>621.0</td>\n",
       "    </tr>\n",
       "    <tr>\n",
       "      <th>1</th>\n",
       "      <td>0001da624eada828c3f744b73bacd8e15cf0d3e288bd09...</td>\n",
       "      <td>181816907</td>\n",
       "      <td>453</td>\n",
       "      <td>5211.0</td>\n",
       "      <td>11.503311</td>\n",
       "      <td>18.02</td>\n",
       "      <td>5195.0</td>\n",
       "    </tr>\n",
       "    <tr>\n",
       "      <th>2</th>\n",
       "      <td>0001da624eada828c3f744b73bacd8e15cf0d3e288bd09...</td>\n",
       "      <td>181844705</td>\n",
       "      <td>91</td>\n",
       "      <td>911.0</td>\n",
       "      <td>10.010989</td>\n",
       "      <td>3.12</td>\n",
       "      <td>900.0</td>\n",
       "    </tr>\n",
       "    <tr>\n",
       "      <th>3</th>\n",
       "      <td>0001da624eada828c3f744b73bacd8e15cf0d3e288bd09...</td>\n",
       "      <td>181861325</td>\n",
       "      <td>76</td>\n",
       "      <td>769.0</td>\n",
       "      <td>10.118421</td>\n",
       "      <td>0.54</td>\n",
       "      <td>750.0</td>\n",
       "    </tr>\n",
       "    <tr>\n",
       "      <th>4</th>\n",
       "      <td>0001da624eada828c3f744b73bacd8e15cf0d3e288bd09...</td>\n",
       "      <td>181871430</td>\n",
       "      <td>54</td>\n",
       "      <td>546.0</td>\n",
       "      <td>10.111111</td>\n",
       "      <td>3.33</td>\n",
       "      <td>530.0</td>\n",
       "    </tr>\n",
       "    <tr>\n",
       "      <th>...</th>\n",
       "      <td>...</td>\n",
       "      <td>...</td>\n",
       "      <td>...</td>\n",
       "      <td>...</td>\n",
       "      <td>...</td>\n",
       "      <td>...</td>\n",
       "      <td>...</td>\n",
       "    </tr>\n",
       "    <tr>\n",
       "      <th>551131</th>\n",
       "      <td>ffefa9fc58deb38517fe5176a458e9cac5c125f15bae31...</td>\n",
       "      <td>198740997</td>\n",
       "      <td>169</td>\n",
       "      <td>3809.0</td>\n",
       "      <td>22.538462</td>\n",
       "      <td>0.56</td>\n",
       "      <td>1690.0</td>\n",
       "    </tr>\n",
       "    <tr>\n",
       "      <th>551132</th>\n",
       "      <td>fff4cf77e4aa669df808c1ea6644a7297ed41ff8ab4c63...</td>\n",
       "      <td>198710096</td>\n",
       "      <td>105</td>\n",
       "      <td>2971.0</td>\n",
       "      <td>28.295238</td>\n",
       "      <td>5.13</td>\n",
       "      <td>1040.0</td>\n",
       "    </tr>\n",
       "    <tr>\n",
       "      <th>551133</th>\n",
       "      <td>fff4cf77e4aa669df808c1ea6644a7297ed41ff8ab4c63...</td>\n",
       "      <td>198740263</td>\n",
       "      <td>20</td>\n",
       "      <td>3702.0</td>\n",
       "      <td>185.100000</td>\n",
       "      <td>1.79</td>\n",
       "      <td>190.0</td>\n",
       "    </tr>\n",
       "    <tr>\n",
       "      <th>551134</th>\n",
       "      <td>fff81139a7dd8a3a48f462347a5611b8e0b84258237d5d...</td>\n",
       "      <td>198740094</td>\n",
       "      <td>206</td>\n",
       "      <td>2059.0</td>\n",
       "      <td>9.995146</td>\n",
       "      <td>12.96</td>\n",
       "      <td>2050.0</td>\n",
       "    </tr>\n",
       "    <tr>\n",
       "      <th>551135</th>\n",
       "      <td>fffdbe5b5cc6c01d65c9c9a94ad9cd1dc8546b0b107c11...</td>\n",
       "      <td>198820049</td>\n",
       "      <td>10</td>\n",
       "      <td>2251.0</td>\n",
       "      <td>225.100000</td>\n",
       "      <td>0.00</td>\n",
       "      <td>90.0</td>\n",
       "    </tr>\n",
       "  </tbody>\n",
       "</table>\n",
       "<p>551136 rows × 7 columns</p>\n",
       "</div>"
      ],
      "text/plain": [
       "                                                driver_id     tripid  points  \\\n",
       "0       0001da624eada828c3f744b73bacd8e15cf0d3e288bd09...  181813898      62   \n",
       "1       0001da624eada828c3f744b73bacd8e15cf0d3e288bd09...  181816907     453   \n",
       "2       0001da624eada828c3f744b73bacd8e15cf0d3e288bd09...  181844705      91   \n",
       "3       0001da624eada828c3f744b73bacd8e15cf0d3e288bd09...  181861325      76   \n",
       "4       0001da624eada828c3f744b73bacd8e15cf0d3e288bd09...  181871430      54   \n",
       "...                                                   ...        ...     ...   \n",
       "551131  ffefa9fc58deb38517fe5176a458e9cac5c125f15bae31...  198740997     169   \n",
       "551132  fff4cf77e4aa669df808c1ea6644a7297ed41ff8ab4c63...  198710096     105   \n",
       "551133  fff4cf77e4aa669df808c1ea6644a7297ed41ff8ab4c63...  198740263      20   \n",
       "551134  fff81139a7dd8a3a48f462347a5611b8e0b84258237d5d...  198740094     206   \n",
       "551135  fffdbe5b5cc6c01d65c9c9a94ad9cd1dc8546b0b107c11...  198820049      10   \n",
       "\n",
       "        Actualduration    AverageP  distance  duration  \n",
       "0                631.0   10.177419      2.04     621.0  \n",
       "1               5211.0   11.503311     18.02    5195.0  \n",
       "2                911.0   10.010989      3.12     900.0  \n",
       "3                769.0   10.118421      0.54     750.0  \n",
       "4                546.0   10.111111      3.33     530.0  \n",
       "...                ...         ...       ...       ...  \n",
       "551131          3809.0   22.538462      0.56    1690.0  \n",
       "551132          2971.0   28.295238      5.13    1040.0  \n",
       "551133          3702.0  185.100000      1.79     190.0  \n",
       "551134          2059.0    9.995146     12.96    2050.0  \n",
       "551135          2251.0  225.100000      0.00      90.0  \n",
       "\n",
       "[551136 rows x 7 columns]"
      ]
     },
     "execution_count": 9,
     "metadata": {},
     "output_type": "execute_result"
    }
   ],
   "source": [
    "df"
   ]
  },
  {
   "cell_type": "markdown",
   "id": "de2d4538",
   "metadata": {},
   "source": [
    "#### trip duration"
   ]
  },
  {
   "cell_type": "code",
   "execution_count": 10,
   "id": "ef2970f2",
   "metadata": {},
   "outputs": [],
   "source": [
    "df1= df.copy() \n"
   ]
  },
  {
   "cell_type": "code",
   "execution_count": 11,
   "id": "429df660",
   "metadata": {},
   "outputs": [
    {
     "data": {
      "text/plain": [
       "count    5.511360e+05\n",
       "mean     2.029594e+03\n",
       "std      9.614870e+03\n",
       "min      3.000000e+00\n",
       "25%      6.330000e+02\n",
       "50%      1.224000e+03\n",
       "75%      2.329000e+03\n",
       "max      3.536470e+06\n",
       "Name: Actualduration, dtype: float64"
      ]
     },
     "execution_count": 11,
     "metadata": {},
     "output_type": "execute_result"
    }
   ],
   "source": [
    "df1['Actualduration'].describe()"
   ]
  },
  {
   "cell_type": "code",
   "execution_count": 12,
   "id": "a9f34148",
   "metadata": {},
   "outputs": [],
   "source": [
    "def data_distribution(data):\n",
    " \n",
    "    x = np.array(data)\n",
    "    \n",
    "    # set the number of bins using the Rice rule\n",
    "    # n_bins = twice cube root of number of observations\n",
    "    n = len(x)\n",
    "    n_bins = round(2 * n**(1/3))\n",
    "    fig = plt.figure()\n",
    "    \n",
    "    # histogram\n",
    "    ax1 = fig.add_axes([0.1, 0.3, 0.8, 0.6])\n",
    "    ax1 = plt.hist(x, bins=n_bins, alpha=0.7)\n",
    "    plt.grid(alpha=.5)\n",
    "    \n",
    "    # boxplot\n",
    "    ax2 = fig.add_axes([0.1, 0.1, 0.8, 0.2])\n",
    "    ax2 = plt.boxplot(x, vert=False, widths=0.7)\n",
    "    plt.grid(alpha=.5)\n",
    "           \n",
    "    plt.show()"
   ]
  },
  {
   "cell_type": "code",
   "execution_count": 13,
   "id": "c1e76214",
   "metadata": {},
   "outputs": [
    {
     "data": {
      "image/png": "[encoded data removed]",
      "text/plain": [
       "<Figure size 432x288 with 2 Axes>"
      ]
     },
     "metadata": {},
     "output_type": "display_data"
    }
   ],
   "source": [
    "data_distribution(df[\"Actualduration\"][df1[\"Actualduration\"] <= 3600])"
   ]
  },
  {
   "cell_type": "code",
   "execution_count": 14,
   "id": "3dbf2744",
   "metadata": {},
   "outputs": [
    {
     "data": {
      "text/plain": [
       "{'whiskers': [<matplotlib.lines.Line2D at 0x1f31eadab50>,\n",
       "  <matplotlib.lines.Line2D at 0x1f31eadaee0>],\n",
       " 'caps': [<matplotlib.lines.Line2D at 0x1f31eaea2b0>,\n",
       "  <matplotlib.lines.Line2D at 0x1f31eaea640>],\n",
       " 'boxes': [<matplotlib.lines.Line2D at 0x1f31eada7c0>],\n",
       " 'medians': [<matplotlib.lines.Line2D at 0x1f31eaea9d0>],\n",
       " 'fliers': [<matplotlib.lines.Line2D at 0x1f31eaead60>],\n",
       " 'means': []}"
      ]
     },
     "execution_count": 14,
     "metadata": {},
     "output_type": "execute_result"
    },
    {
     "data": {
      "image/png": "[encoded data removed]",
      "text/plain": [
       "<Figure size 432x288 with 1 Axes>"
      ]
     },
     "metadata": {},
     "output_type": "display_data"
    }
   ],
   "source": [
    "plt.boxplot(df1.Actualduration)"
   ]
  },
  {
   "cell_type": "code",
   "execution_count": 15,
   "id": "f3bbba40",
   "metadata": {},
   "outputs": [
    {
     "name": "stdout",
     "output_type": "stream",
     "text": [
      "209852    3536470.0\n",
      "140477    1696410.0\n",
      "159050    1637995.0\n",
      "185192    1607111.0\n",
      "264624    1596157.0\n",
      "94900     1484220.0\n",
      "419378    1338833.0\n",
      "528095    1299271.0\n",
      "4111      1103878.0\n",
      "220898    1044960.0\n",
      "Name: Actualduration, dtype: float64\n"
     ]
    }
   ],
   "source": [
    "print( df1['Actualduration'].nlargest(10))"
   ]
  },
  {
   "cell_type": "code",
   "execution_count": 16,
   "id": "ec6608c6",
   "metadata": {},
   "outputs": [],
   "source": [
    "df1=df1[df1.Actualduration!=df1.Actualduration.max()]"
   ]
  },
  {
   "cell_type": "code",
   "execution_count": 17,
   "id": "9c82b2ee",
   "metadata": {},
   "outputs": [
    {
     "name": "stderr",
     "output_type": "stream",
     "text": [
      "c:\\python\\lib\\site-packages\\seaborn\\distributions.py:2557: FutureWarning: `distplot` is a deprecated function and will be removed in a future version. Please adapt your code to use either `displot` (a figure-level function with similar flexibility) or `histplot` (an axes-level function for histograms).\n",
      "  warnings.warn(msg, FutureWarning)\n"
     ]
    },
    {
     "data": {
      "text/plain": [
       "Text(0.5, 1.0, 'Distribution after the treatment of outliers')"
      ]
     },
     "execution_count": 17,
     "metadata": {},
     "output_type": "execute_result"
    },
    {
     "data": {
      "image/png": "[encoded data removed]",
      "text/plain": [
       "<Figure size 432x288 with 1 Axes>"
      ]
     },
     "metadata": {},
     "output_type": "display_data"
    }
   ],
   "source": [
    "sns.distplot(df1['Actualduration'])\n",
    "plt.title('Distribution after the treatment of outliers')"
   ]
  },
  {
   "cell_type": "code",
   "execution_count": 18,
   "id": "0d48e635",
   "metadata": {},
   "outputs": [],
   "source": [
    "bins=np.array([0,600,1200,1800,3600,5400,7200])\n",
    "df1['duration_time_minutes']=pd.cut(df1.Actualduration,bins,labels=[\"<10\", \"10-20\", \"20-30\",\"30-60\",\"60-90\",\">90\"])"
   ]
  },
  {
   "cell_type": "code",
   "execution_count": 19,
   "id": "01c45b8f",
   "metadata": {},
   "outputs": [
    {
     "data": {
      "text/html": [
       "<div>\n",
       "<style scoped>\n",
       "    .dataframe tbody tr th:only-of-type {\n",
       "        vertical-align: middle;\n",
       "    }\n",
       "\n",
       "    .dataframe tbody tr th {\n",
       "        vertical-align: top;\n",
       "    }\n",
       "\n",
       "    .dataframe thead th {\n",
       "        text-align: right;\n",
       "    }\n",
       "</style>\n",
       "<table border=\"1\" class=\"dataframe\">\n",
       "  <thead>\n",
       "    <tr style=\"text-align: right;\">\n",
       "      <th></th>\n",
       "      <th>driver_id</th>\n",
       "      <th>tripid</th>\n",
       "      <th>points</th>\n",
       "      <th>Actualduration</th>\n",
       "      <th>AverageP</th>\n",
       "      <th>distance</th>\n",
       "      <th>duration</th>\n",
       "      <th>duration_time_minutes</th>\n",
       "    </tr>\n",
       "  </thead>\n",
       "  <tbody>\n",
       "    <tr>\n",
       "      <th>0</th>\n",
       "      <td>0001da624eada828c3f744b73bacd8e15cf0d3e288bd09...</td>\n",
       "      <td>181813898</td>\n",
       "      <td>62</td>\n",
       "      <td>631.0</td>\n",
       "      <td>10.177419</td>\n",
       "      <td>2.04</td>\n",
       "      <td>621.0</td>\n",
       "      <td>10-20</td>\n",
       "    </tr>\n",
       "    <tr>\n",
       "      <th>1</th>\n",
       "      <td>0001da624eada828c3f744b73bacd8e15cf0d3e288bd09...</td>\n",
       "      <td>181816907</td>\n",
       "      <td>453</td>\n",
       "      <td>5211.0</td>\n",
       "      <td>11.503311</td>\n",
       "      <td>18.02</td>\n",
       "      <td>5195.0</td>\n",
       "      <td>60-90</td>\n",
       "    </tr>\n",
       "    <tr>\n",
       "      <th>2</th>\n",
       "      <td>0001da624eada828c3f744b73bacd8e15cf0d3e288bd09...</td>\n",
       "      <td>181844705</td>\n",
       "      <td>91</td>\n",
       "      <td>911.0</td>\n",
       "      <td>10.010989</td>\n",
       "      <td>3.12</td>\n",
       "      <td>900.0</td>\n",
       "      <td>10-20</td>\n",
       "    </tr>\n",
       "    <tr>\n",
       "      <th>3</th>\n",
       "      <td>0001da624eada828c3f744b73bacd8e15cf0d3e288bd09...</td>\n",
       "      <td>181861325</td>\n",
       "      <td>76</td>\n",
       "      <td>769.0</td>\n",
       "      <td>10.118421</td>\n",
       "      <td>0.54</td>\n",
       "      <td>750.0</td>\n",
       "      <td>10-20</td>\n",
       "    </tr>\n",
       "    <tr>\n",
       "      <th>4</th>\n",
       "      <td>0001da624eada828c3f744b73bacd8e15cf0d3e288bd09...</td>\n",
       "      <td>181871430</td>\n",
       "      <td>54</td>\n",
       "      <td>546.0</td>\n",
       "      <td>10.111111</td>\n",
       "      <td>3.33</td>\n",
       "      <td>530.0</td>\n",
       "      <td>&lt;10</td>\n",
       "    </tr>\n",
       "    <tr>\n",
       "      <th>...</th>\n",
       "      <td>...</td>\n",
       "      <td>...</td>\n",
       "      <td>...</td>\n",
       "      <td>...</td>\n",
       "      <td>...</td>\n",
       "      <td>...</td>\n",
       "      <td>...</td>\n",
       "      <td>...</td>\n",
       "    </tr>\n",
       "    <tr>\n",
       "      <th>551131</th>\n",
       "      <td>ffefa9fc58deb38517fe5176a458e9cac5c125f15bae31...</td>\n",
       "      <td>198740997</td>\n",
       "      <td>169</td>\n",
       "      <td>3809.0</td>\n",
       "      <td>22.538462</td>\n",
       "      <td>0.56</td>\n",
       "      <td>1690.0</td>\n",
       "      <td>60-90</td>\n",
       "    </tr>\n",
       "    <tr>\n",
       "      <th>551132</th>\n",
       "      <td>fff4cf77e4aa669df808c1ea6644a7297ed41ff8ab4c63...</td>\n",
       "      <td>198710096</td>\n",
       "      <td>105</td>\n",
       "      <td>2971.0</td>\n",
       "      <td>28.295238</td>\n",
       "      <td>5.13</td>\n",
       "      <td>1040.0</td>\n",
       "      <td>30-60</td>\n",
       "    </tr>\n",
       "    <tr>\n",
       "      <th>551133</th>\n",
       "      <td>fff4cf77e4aa669df808c1ea6644a7297ed41ff8ab4c63...</td>\n",
       "      <td>198740263</td>\n",
       "      <td>20</td>\n",
       "      <td>3702.0</td>\n",
       "      <td>185.100000</td>\n",
       "      <td>1.79</td>\n",
       "      <td>190.0</td>\n",
       "      <td>60-90</td>\n",
       "    </tr>\n",
       "    <tr>\n",
       "      <th>551134</th>\n",
       "      <td>fff81139a7dd8a3a48f462347a5611b8e0b84258237d5d...</td>\n",
       "      <td>198740094</td>\n",
       "      <td>206</td>\n",
       "      <td>2059.0</td>\n",
       "      <td>9.995146</td>\n",
       "      <td>12.96</td>\n",
       "      <td>2050.0</td>\n",
       "      <td>30-60</td>\n",
       "    </tr>\n",
       "    <tr>\n",
       "      <th>551135</th>\n",
       "      <td>fffdbe5b5cc6c01d65c9c9a94ad9cd1dc8546b0b107c11...</td>\n",
       "      <td>198820049</td>\n",
       "      <td>10</td>\n",
       "      <td>2251.0</td>\n",
       "      <td>225.100000</td>\n",
       "      <td>0.00</td>\n",
       "      <td>90.0</td>\n",
       "      <td>30-60</td>\n",
       "    </tr>\n",
       "  </tbody>\n",
       "</table>\n",
       "<p>551135 rows × 8 columns</p>\n",
       "</div>"
      ],
      "text/plain": [
       "                                                driver_id     tripid  points  \\\n",
       "0       0001da624eada828c3f744b73bacd8e15cf0d3e288bd09...  181813898      62   \n",
       "1       0001da624eada828c3f744b73bacd8e15cf0d3e288bd09...  181816907     453   \n",
       "2       0001da624eada828c3f744b73bacd8e15cf0d3e288bd09...  181844705      91   \n",
       "3       0001da624eada828c3f744b73bacd8e15cf0d3e288bd09...  181861325      76   \n",
       "4       0001da624eada828c3f744b73bacd8e15cf0d3e288bd09...  181871430      54   \n",
       "...                                                   ...        ...     ...   \n",
       "551131  ffefa9fc58deb38517fe5176a458e9cac5c125f15bae31...  198740997     169   \n",
       "551132  fff4cf77e4aa669df808c1ea6644a7297ed41ff8ab4c63...  198710096     105   \n",
       "551133  fff4cf77e4aa669df808c1ea6644a7297ed41ff8ab4c63...  198740263      20   \n",
       "551134  fff81139a7dd8a3a48f462347a5611b8e0b84258237d5d...  198740094     206   \n",
       "551135  fffdbe5b5cc6c01d65c9c9a94ad9cd1dc8546b0b107c11...  198820049      10   \n",
       "\n",
       "        Actualduration    AverageP  distance  duration duration_time_minutes  \n",
       "0                631.0   10.177419      2.04     621.0                 10-20  \n",
       "1               5211.0   11.503311     18.02    5195.0                 60-90  \n",
       "2                911.0   10.010989      3.12     900.0                 10-20  \n",
       "3                769.0   10.118421      0.54     750.0                 10-20  \n",
       "4                546.0   10.111111      3.33     530.0                   <10  \n",
       "...                ...         ...       ...       ...                   ...  \n",
       "551131          3809.0   22.538462      0.56    1690.0                 60-90  \n",
       "551132          2971.0   28.295238      5.13    1040.0                 30-60  \n",
       "551133          3702.0  185.100000      1.79     190.0                 60-90  \n",
       "551134          2059.0    9.995146     12.96    2050.0                 30-60  \n",
       "551135          2251.0  225.100000      0.00      90.0                 30-60  \n",
       "\n",
       "[551135 rows x 8 columns]"
      ]
     },
     "execution_count": 19,
     "metadata": {},
     "output_type": "execute_result"
    }
   ],
   "source": [
    "df1"
   ]
  },
  {
   "cell_type": "code",
   "execution_count": 20,
   "id": "6dfa3367",
   "metadata": {},
   "outputs": [
    {
     "data": {
      "text/plain": [
       "10-20    143079\n",
       "<10      128217\n",
       "30-60    125473\n",
       "20-30     89105\n",
       "60-90     37577\n",
       ">90       12413\n",
       "Name: duration_time_minutes, dtype: int64"
      ]
     },
     "execution_count": 20,
     "metadata": {},
     "output_type": "execute_result"
    }
   ],
   "source": [
    "df1['duration_time_minutes'].value_counts()"
   ]
  },
  {
   "cell_type": "code",
   "execution_count": 21,
   "id": "151e6450",
   "metadata": {},
   "outputs": [
    {
     "data": {
      "text/plain": [
       "(551135, 8)"
      ]
     },
     "execution_count": 21,
     "metadata": {},
     "output_type": "execute_result"
    }
   ],
   "source": [
    "df1.shape"
   ]
  },
  {
   "cell_type": "code",
   "execution_count": 22,
   "id": "40c4b1c3",
   "metadata": {},
   "outputs": [
    {
     "data": {
      "text/plain": [
       "94.97708361305962"
      ]
     },
     "execution_count": 22,
     "metadata": {},
     "output_type": "execute_result"
    }
   ],
   "source": [
    "((143079+128217+125473+89105+37577)/551134)*100   "
   ]
  },
  {
   "cell_type": "markdown",
   "id": "19659d34",
   "metadata": {},
   "source": [
    "#### 94.97% trips are less than 1 hour and 30 minutes "
   ]
  },
  {
   "cell_type": "code",
   "execution_count": 23,
   "id": "c656bc69",
   "metadata": {},
   "outputs": [],
   "source": [
    "df1.dropna(subset = [\"duration_time_minutes\"], inplace=True)"
   ]
  },
  {
   "cell_type": "code",
   "execution_count": 24,
   "id": "279c5aa0",
   "metadata": {},
   "outputs": [
    {
     "data": {
      "text/plain": [
       "(535864, 8)"
      ]
     },
     "execution_count": 24,
     "metadata": {},
     "output_type": "execute_result"
    }
   ],
   "source": [
    "df1.shape"
   ]
  },
  {
   "cell_type": "code",
   "execution_count": 25,
   "id": "44ac9045",
   "metadata": {},
   "outputs": [
    {
     "data": {
      "image/png": "[encoded data removed]",
      "text/plain": [
       "<Figure size 432x288 with 1 Axes>"
      ]
     },
     "metadata": {},
     "output_type": "display_data"
    }
   ],
   "source": [
    "ax = sns.countplot(x='duration_time_minutes', data=df1) \n"
   ]
  },
  {
   "cell_type": "markdown",
   "id": "8701de35",
   "metadata": {},
   "source": [
    "### considering average points "
   ]
  },
  {
   "cell_type": "code",
   "execution_count": 26,
   "id": "b7c8ec96",
   "metadata": {},
   "outputs": [],
   "source": [
    "df2= df.copy() \n"
   ]
  },
  {
   "cell_type": "code",
   "execution_count": 27,
   "id": "409d7175",
   "metadata": {},
   "outputs": [],
   "source": [
    "bins=np.array([0,5,10,11,12,13,14,15,100])\n",
    "df2['point_interval']=pd.cut(df2.AverageP,bins,labels=[\"<5\", \"5-10\", \"10-11\",\"11-12\",\"12-13\",\"13-14\",'14-15','>15'])"
   ]
  },
  {
   "cell_type": "code",
   "execution_count": 28,
   "id": "443a3caf",
   "metadata": {},
   "outputs": [
    {
     "data": {
      "text/html": [
       "<div>\n",
       "<style scoped>\n",
       "    .dataframe tbody tr th:only-of-type {\n",
       "        vertical-align: middle;\n",
       "    }\n",
       "\n",
       "    .dataframe tbody tr th {\n",
       "        vertical-align: top;\n",
       "    }\n",
       "\n",
       "    .dataframe thead th {\n",
       "        text-align: right;\n",
       "    }\n",
       "</style>\n",
       "<table border=\"1\" class=\"dataframe\">\n",
       "  <thead>\n",
       "    <tr style=\"text-align: right;\">\n",
       "      <th></th>\n",
       "      <th>driver_id</th>\n",
       "      <th>tripid</th>\n",
       "      <th>points</th>\n",
       "      <th>Actualduration</th>\n",
       "      <th>AverageP</th>\n",
       "      <th>distance</th>\n",
       "      <th>duration</th>\n",
       "      <th>point_interval</th>\n",
       "    </tr>\n",
       "  </thead>\n",
       "  <tbody>\n",
       "    <tr>\n",
       "      <th>0</th>\n",
       "      <td>0001da624eada828c3f744b73bacd8e15cf0d3e288bd09...</td>\n",
       "      <td>181813898</td>\n",
       "      <td>62</td>\n",
       "      <td>631.0</td>\n",
       "      <td>10.177419</td>\n",
       "      <td>2.04</td>\n",
       "      <td>621.0</td>\n",
       "      <td>10-11</td>\n",
       "    </tr>\n",
       "    <tr>\n",
       "      <th>1</th>\n",
       "      <td>0001da624eada828c3f744b73bacd8e15cf0d3e288bd09...</td>\n",
       "      <td>181816907</td>\n",
       "      <td>453</td>\n",
       "      <td>5211.0</td>\n",
       "      <td>11.503311</td>\n",
       "      <td>18.02</td>\n",
       "      <td>5195.0</td>\n",
       "      <td>11-12</td>\n",
       "    </tr>\n",
       "    <tr>\n",
       "      <th>2</th>\n",
       "      <td>0001da624eada828c3f744b73bacd8e15cf0d3e288bd09...</td>\n",
       "      <td>181844705</td>\n",
       "      <td>91</td>\n",
       "      <td>911.0</td>\n",
       "      <td>10.010989</td>\n",
       "      <td>3.12</td>\n",
       "      <td>900.0</td>\n",
       "      <td>10-11</td>\n",
       "    </tr>\n",
       "    <tr>\n",
       "      <th>3</th>\n",
       "      <td>0001da624eada828c3f744b73bacd8e15cf0d3e288bd09...</td>\n",
       "      <td>181861325</td>\n",
       "      <td>76</td>\n",
       "      <td>769.0</td>\n",
       "      <td>10.118421</td>\n",
       "      <td>0.54</td>\n",
       "      <td>750.0</td>\n",
       "      <td>10-11</td>\n",
       "    </tr>\n",
       "    <tr>\n",
       "      <th>4</th>\n",
       "      <td>0001da624eada828c3f744b73bacd8e15cf0d3e288bd09...</td>\n",
       "      <td>181871430</td>\n",
       "      <td>54</td>\n",
       "      <td>546.0</td>\n",
       "      <td>10.111111</td>\n",
       "      <td>3.33</td>\n",
       "      <td>530.0</td>\n",
       "      <td>10-11</td>\n",
       "    </tr>\n",
       "    <tr>\n",
       "      <th>...</th>\n",
       "      <td>...</td>\n",
       "      <td>...</td>\n",
       "      <td>...</td>\n",
       "      <td>...</td>\n",
       "      <td>...</td>\n",
       "      <td>...</td>\n",
       "      <td>...</td>\n",
       "      <td>...</td>\n",
       "    </tr>\n",
       "    <tr>\n",
       "      <th>551131</th>\n",
       "      <td>ffefa9fc58deb38517fe5176a458e9cac5c125f15bae31...</td>\n",
       "      <td>198740997</td>\n",
       "      <td>169</td>\n",
       "      <td>3809.0</td>\n",
       "      <td>22.538462</td>\n",
       "      <td>0.56</td>\n",
       "      <td>1690.0</td>\n",
       "      <td>&gt;15</td>\n",
       "    </tr>\n",
       "    <tr>\n",
       "      <th>551132</th>\n",
       "      <td>fff4cf77e4aa669df808c1ea6644a7297ed41ff8ab4c63...</td>\n",
       "      <td>198710096</td>\n",
       "      <td>105</td>\n",
       "      <td>2971.0</td>\n",
       "      <td>28.295238</td>\n",
       "      <td>5.13</td>\n",
       "      <td>1040.0</td>\n",
       "      <td>&gt;15</td>\n",
       "    </tr>\n",
       "    <tr>\n",
       "      <th>551133</th>\n",
       "      <td>fff4cf77e4aa669df808c1ea6644a7297ed41ff8ab4c63...</td>\n",
       "      <td>198740263</td>\n",
       "      <td>20</td>\n",
       "      <td>3702.0</td>\n",
       "      <td>185.100000</td>\n",
       "      <td>1.79</td>\n",
       "      <td>190.0</td>\n",
       "      <td>NaN</td>\n",
       "    </tr>\n",
       "    <tr>\n",
       "      <th>551134</th>\n",
       "      <td>fff81139a7dd8a3a48f462347a5611b8e0b84258237d5d...</td>\n",
       "      <td>198740094</td>\n",
       "      <td>206</td>\n",
       "      <td>2059.0</td>\n",
       "      <td>9.995146</td>\n",
       "      <td>12.96</td>\n",
       "      <td>2050.0</td>\n",
       "      <td>5-10</td>\n",
       "    </tr>\n",
       "    <tr>\n",
       "      <th>551135</th>\n",
       "      <td>fffdbe5b5cc6c01d65c9c9a94ad9cd1dc8546b0b107c11...</td>\n",
       "      <td>198820049</td>\n",
       "      <td>10</td>\n",
       "      <td>2251.0</td>\n",
       "      <td>225.100000</td>\n",
       "      <td>0.00</td>\n",
       "      <td>90.0</td>\n",
       "      <td>NaN</td>\n",
       "    </tr>\n",
       "  </tbody>\n",
       "</table>\n",
       "<p>551136 rows × 8 columns</p>\n",
       "</div>"
      ],
      "text/plain": [
       "                                                driver_id     tripid  points  \\\n",
       "0       0001da624eada828c3f744b73bacd8e15cf0d3e288bd09...  181813898      62   \n",
       "1       0001da624eada828c3f744b73bacd8e15cf0d3e288bd09...  181816907     453   \n",
       "2       0001da624eada828c3f744b73bacd8e15cf0d3e288bd09...  181844705      91   \n",
       "3       0001da624eada828c3f744b73bacd8e15cf0d3e288bd09...  181861325      76   \n",
       "4       0001da624eada828c3f744b73bacd8e15cf0d3e288bd09...  181871430      54   \n",
       "...                                                   ...        ...     ...   \n",
       "551131  ffefa9fc58deb38517fe5176a458e9cac5c125f15bae31...  198740997     169   \n",
       "551132  fff4cf77e4aa669df808c1ea6644a7297ed41ff8ab4c63...  198710096     105   \n",
       "551133  fff4cf77e4aa669df808c1ea6644a7297ed41ff8ab4c63...  198740263      20   \n",
       "551134  fff81139a7dd8a3a48f462347a5611b8e0b84258237d5d...  198740094     206   \n",
       "551135  fffdbe5b5cc6c01d65c9c9a94ad9cd1dc8546b0b107c11...  198820049      10   \n",
       "\n",
       "        Actualduration    AverageP  distance  duration point_interval  \n",
       "0                631.0   10.177419      2.04     621.0          10-11  \n",
       "1               5211.0   11.503311     18.02    5195.0          11-12  \n",
       "2                911.0   10.010989      3.12     900.0          10-11  \n",
       "3                769.0   10.118421      0.54     750.0          10-11  \n",
       "4                546.0   10.111111      3.33     530.0          10-11  \n",
       "...                ...         ...       ...       ...            ...  \n",
       "551131          3809.0   22.538462      0.56    1690.0            >15  \n",
       "551132          2971.0   28.295238      5.13    1040.0            >15  \n",
       "551133          3702.0  185.100000      1.79     190.0            NaN  \n",
       "551134          2059.0    9.995146     12.96    2050.0           5-10  \n",
       "551135          2251.0  225.100000      0.00      90.0            NaN  \n",
       "\n",
       "[551136 rows x 8 columns]"
      ]
     },
     "execution_count": 28,
     "metadata": {},
     "output_type": "execute_result"
    }
   ],
   "source": [
    "df2"
   ]
  },
  {
   "cell_type": "code",
   "execution_count": 29,
   "id": "0e1cc1e4",
   "metadata": {},
   "outputs": [
    {
     "data": {
      "text/plain": [
       "(551136, 8)"
      ]
     },
     "execution_count": 29,
     "metadata": {},
     "output_type": "execute_result"
    }
   ],
   "source": [
    "df2.shape"
   ]
  },
  {
   "cell_type": "code",
   "execution_count": 30,
   "id": "cbf1c466",
   "metadata": {},
   "outputs": [
    {
     "data": {
      "text/plain": [
       "driver_id             0\n",
       "tripid                0\n",
       "points                0\n",
       "Actualduration        0\n",
       "AverageP              0\n",
       "distance              0\n",
       "duration              0\n",
       "point_interval    23544\n",
       "dtype: int64"
      ]
     },
     "execution_count": 30,
     "metadata": {},
     "output_type": "execute_result"
    }
   ],
   "source": [
    "df2.isna().sum()"
   ]
  },
  {
   "cell_type": "code",
   "execution_count": 31,
   "id": "470e4728",
   "metadata": {},
   "outputs": [],
   "source": [
    "df2.dropna(subset = [\"point_interval\"], inplace=True)"
   ]
  },
  {
   "cell_type": "code",
   "execution_count": 32,
   "id": "60b6128a",
   "metadata": {},
   "outputs": [
    {
     "data": {
      "image/png": "[encoded data removed]",
      "text/plain": [
       "<Figure size 432x288 with 1 Axes>"
      ]
     },
     "metadata": {},
     "output_type": "display_data"
    }
   ],
   "source": [
    "ax = sns.countplot(x='point_interval', data=df2) "
   ]
  },
  {
   "cell_type": "code",
   "execution_count": 35,
   "id": "91dd7dd7",
   "metadata": {},
   "outputs": [
    {
     "data": {
      "text/plain": [
       "10-11    239712\n",
       ">15      113321\n",
       "5-10      97865\n",
       "11-12     31658\n",
       "12-13     19294\n",
       "13-14     14473\n",
       "14-15     11267\n",
       "<5            2\n",
       "Name: point_interval, dtype: int64"
      ]
     },
     "execution_count": 35,
     "metadata": {},
     "output_type": "execute_result"
    }
   ],
   "source": [
    "df2['point_interval'].value_counts()"
   ]
  },
  {
   "cell_type": "code",
   "execution_count": 36,
   "id": "1c8a1f7a",
   "metadata": {},
   "outputs": [
    {
     "data": {
      "text/plain": [
       "(527592, 8)"
      ]
     },
     "execution_count": 36,
     "metadata": {},
     "output_type": "execute_result"
    }
   ],
   "source": [
    "df2.shape"
   ]
  },
  {
   "cell_type": "code",
   "execution_count": 37,
   "id": "fa415354",
   "metadata": {},
   "outputs": [
    {
     "data": {
      "text/plain": [
       "0.6398448043184886"
      ]
     },
     "execution_count": 37,
     "metadata": {},
     "output_type": "execute_result"
    }
   ],
   "source": [
    "(239712+97865)/527592"
   ]
  },
  {
   "cell_type": "code",
   "execution_count": 38,
   "id": "30d95e41",
   "metadata": {},
   "outputs": [
    {
     "data": {
      "text/plain": [
       "0.6998495049204688"
      ]
     },
     "execution_count": 38,
     "metadata": {},
     "output_type": "execute_result"
    }
   ],
   "source": [
    "(239712+97865+31658)/527592"
   ]
  },
  {
   "cell_type": "code",
   "execution_count": 39,
   "id": "84646dd4",
   "metadata": {},
   "outputs": [
    {
     "data": {
      "text/plain": [
       "21.478907944017347"
      ]
     },
     "execution_count": 39,
     "metadata": {},
     "output_type": "execute_result"
    }
   ],
   "source": [
    "(113321/527592)*100"
   ]
  },
  {
   "cell_type": "markdown",
   "id": "316ed442",
   "metadata": {},
   "source": [
    "#### considering distance "
   ]
  },
  {
   "cell_type": "code",
   "execution_count": 40,
   "id": "b7695a25",
   "metadata": {},
   "outputs": [],
   "source": [
    "df3= df.copy() "
   ]
  },
  {
   "cell_type": "code",
   "execution_count": 41,
   "id": "1e715669",
   "metadata": {},
   "outputs": [],
   "source": [
    "bins=np.array([0,0.25,0.5,1,5,10,15,20,30,50,100])\n",
    "df3['distance_interval']=pd.cut(df3.distance,bins,labels=[\"<0.25\",\"0.25-0.5\",'0.5-1', \"1-5\", \"5-10\",\"10-15\",\"15-20\",\"20-30\",'30-50','>50'])"
   ]
  },
  {
   "cell_type": "code",
   "execution_count": 42,
   "id": "ed3e43a8",
   "metadata": {},
   "outputs": [
    {
     "data": {
      "text/html": [
       "<div>\n",
       "<style scoped>\n",
       "    .dataframe tbody tr th:only-of-type {\n",
       "        vertical-align: middle;\n",
       "    }\n",
       "\n",
       "    .dataframe tbody tr th {\n",
       "        vertical-align: top;\n",
       "    }\n",
       "\n",
       "    .dataframe thead th {\n",
       "        text-align: right;\n",
       "    }\n",
       "</style>\n",
       "<table border=\"1\" class=\"dataframe\">\n",
       "  <thead>\n",
       "    <tr style=\"text-align: right;\">\n",
       "      <th></th>\n",
       "      <th>driver_id</th>\n",
       "      <th>tripid</th>\n",
       "      <th>points</th>\n",
       "      <th>Actualduration</th>\n",
       "      <th>AverageP</th>\n",
       "      <th>distance</th>\n",
       "      <th>duration</th>\n",
       "      <th>distance_interval</th>\n",
       "    </tr>\n",
       "  </thead>\n",
       "  <tbody>\n",
       "    <tr>\n",
       "      <th>0</th>\n",
       "      <td>0001da624eada828c3f744b73bacd8e15cf0d3e288bd09...</td>\n",
       "      <td>181813898</td>\n",
       "      <td>62</td>\n",
       "      <td>631.0</td>\n",
       "      <td>10.177419</td>\n",
       "      <td>2.04</td>\n",
       "      <td>621.0</td>\n",
       "      <td>1-5</td>\n",
       "    </tr>\n",
       "    <tr>\n",
       "      <th>1</th>\n",
       "      <td>0001da624eada828c3f744b73bacd8e15cf0d3e288bd09...</td>\n",
       "      <td>181816907</td>\n",
       "      <td>453</td>\n",
       "      <td>5211.0</td>\n",
       "      <td>11.503311</td>\n",
       "      <td>18.02</td>\n",
       "      <td>5195.0</td>\n",
       "      <td>15-20</td>\n",
       "    </tr>\n",
       "    <tr>\n",
       "      <th>2</th>\n",
       "      <td>0001da624eada828c3f744b73bacd8e15cf0d3e288bd09...</td>\n",
       "      <td>181844705</td>\n",
       "      <td>91</td>\n",
       "      <td>911.0</td>\n",
       "      <td>10.010989</td>\n",
       "      <td>3.12</td>\n",
       "      <td>900.0</td>\n",
       "      <td>1-5</td>\n",
       "    </tr>\n",
       "    <tr>\n",
       "      <th>3</th>\n",
       "      <td>0001da624eada828c3f744b73bacd8e15cf0d3e288bd09...</td>\n",
       "      <td>181861325</td>\n",
       "      <td>76</td>\n",
       "      <td>769.0</td>\n",
       "      <td>10.118421</td>\n",
       "      <td>0.54</td>\n",
       "      <td>750.0</td>\n",
       "      <td>0.5-1</td>\n",
       "    </tr>\n",
       "    <tr>\n",
       "      <th>4</th>\n",
       "      <td>0001da624eada828c3f744b73bacd8e15cf0d3e288bd09...</td>\n",
       "      <td>181871430</td>\n",
       "      <td>54</td>\n",
       "      <td>546.0</td>\n",
       "      <td>10.111111</td>\n",
       "      <td>3.33</td>\n",
       "      <td>530.0</td>\n",
       "      <td>1-5</td>\n",
       "    </tr>\n",
       "    <tr>\n",
       "      <th>...</th>\n",
       "      <td>...</td>\n",
       "      <td>...</td>\n",
       "      <td>...</td>\n",
       "      <td>...</td>\n",
       "      <td>...</td>\n",
       "      <td>...</td>\n",
       "      <td>...</td>\n",
       "      <td>...</td>\n",
       "    </tr>\n",
       "    <tr>\n",
       "      <th>551131</th>\n",
       "      <td>ffefa9fc58deb38517fe5176a458e9cac5c125f15bae31...</td>\n",
       "      <td>198740997</td>\n",
       "      <td>169</td>\n",
       "      <td>3809.0</td>\n",
       "      <td>22.538462</td>\n",
       "      <td>0.56</td>\n",
       "      <td>1690.0</td>\n",
       "      <td>0.5-1</td>\n",
       "    </tr>\n",
       "    <tr>\n",
       "      <th>551132</th>\n",
       "      <td>fff4cf77e4aa669df808c1ea6644a7297ed41ff8ab4c63...</td>\n",
       "      <td>198710096</td>\n",
       "      <td>105</td>\n",
       "      <td>2971.0</td>\n",
       "      <td>28.295238</td>\n",
       "      <td>5.13</td>\n",
       "      <td>1040.0</td>\n",
       "      <td>5-10</td>\n",
       "    </tr>\n",
       "    <tr>\n",
       "      <th>551133</th>\n",
       "      <td>fff4cf77e4aa669df808c1ea6644a7297ed41ff8ab4c63...</td>\n",
       "      <td>198740263</td>\n",
       "      <td>20</td>\n",
       "      <td>3702.0</td>\n",
       "      <td>185.100000</td>\n",
       "      <td>1.79</td>\n",
       "      <td>190.0</td>\n",
       "      <td>1-5</td>\n",
       "    </tr>\n",
       "    <tr>\n",
       "      <th>551134</th>\n",
       "      <td>fff81139a7dd8a3a48f462347a5611b8e0b84258237d5d...</td>\n",
       "      <td>198740094</td>\n",
       "      <td>206</td>\n",
       "      <td>2059.0</td>\n",
       "      <td>9.995146</td>\n",
       "      <td>12.96</td>\n",
       "      <td>2050.0</td>\n",
       "      <td>10-15</td>\n",
       "    </tr>\n",
       "    <tr>\n",
       "      <th>551135</th>\n",
       "      <td>fffdbe5b5cc6c01d65c9c9a94ad9cd1dc8546b0b107c11...</td>\n",
       "      <td>198820049</td>\n",
       "      <td>10</td>\n",
       "      <td>2251.0</td>\n",
       "      <td>225.100000</td>\n",
       "      <td>0.00</td>\n",
       "      <td>90.0</td>\n",
       "      <td>NaN</td>\n",
       "    </tr>\n",
       "  </tbody>\n",
       "</table>\n",
       "<p>551136 rows × 8 columns</p>\n",
       "</div>"
      ],
      "text/plain": [
       "                                                driver_id     tripid  points  \\\n",
       "0       0001da624eada828c3f744b73bacd8e15cf0d3e288bd09...  181813898      62   \n",
       "1       0001da624eada828c3f744b73bacd8e15cf0d3e288bd09...  181816907     453   \n",
       "2       0001da624eada828c3f744b73bacd8e15cf0d3e288bd09...  181844705      91   \n",
       "3       0001da624eada828c3f744b73bacd8e15cf0d3e288bd09...  181861325      76   \n",
       "4       0001da624eada828c3f744b73bacd8e15cf0d3e288bd09...  181871430      54   \n",
       "...                                                   ...        ...     ...   \n",
       "551131  ffefa9fc58deb38517fe5176a458e9cac5c125f15bae31...  198740997     169   \n",
       "551132  fff4cf77e4aa669df808c1ea6644a7297ed41ff8ab4c63...  198710096     105   \n",
       "551133  fff4cf77e4aa669df808c1ea6644a7297ed41ff8ab4c63...  198740263      20   \n",
       "551134  fff81139a7dd8a3a48f462347a5611b8e0b84258237d5d...  198740094     206   \n",
       "551135  fffdbe5b5cc6c01d65c9c9a94ad9cd1dc8546b0b107c11...  198820049      10   \n",
       "\n",
       "        Actualduration    AverageP  distance  duration distance_interval  \n",
       "0                631.0   10.177419      2.04     621.0               1-5  \n",
       "1               5211.0   11.503311     18.02    5195.0             15-20  \n",
       "2                911.0   10.010989      3.12     900.0               1-5  \n",
       "3                769.0   10.118421      0.54     750.0             0.5-1  \n",
       "4                546.0   10.111111      3.33     530.0               1-5  \n",
       "...                ...         ...       ...       ...               ...  \n",
       "551131          3809.0   22.538462      0.56    1690.0             0.5-1  \n",
       "551132          2971.0   28.295238      5.13    1040.0              5-10  \n",
       "551133          3702.0  185.100000      1.79     190.0               1-5  \n",
       "551134          2059.0    9.995146     12.96    2050.0             10-15  \n",
       "551135          2251.0  225.100000      0.00      90.0               NaN  \n",
       "\n",
       "[551136 rows x 8 columns]"
      ]
     },
     "execution_count": 42,
     "metadata": {},
     "output_type": "execute_result"
    }
   ],
   "source": [
    "df3"
   ]
  },
  {
   "cell_type": "code",
   "execution_count": 43,
   "id": "e32ba33a",
   "metadata": {},
   "outputs": [
    {
     "data": {
      "text/plain": [
       "driver_id                0\n",
       "tripid                   0\n",
       "points                   0\n",
       "Actualduration           0\n",
       "AverageP                 0\n",
       "distance                 0\n",
       "duration                 0\n",
       "distance_interval    36082\n",
       "dtype: int64"
      ]
     },
     "execution_count": 43,
     "metadata": {},
     "output_type": "execute_result"
    }
   ],
   "source": [
    "df3.isna().sum()"
   ]
  },
  {
   "cell_type": "code",
   "execution_count": 44,
   "id": "b76ea9fb",
   "metadata": {},
   "outputs": [],
   "source": [
    "df3.dropna(subset = [\"distance_interval\"], inplace=True)"
   ]
  },
  {
   "cell_type": "code",
   "execution_count": 45,
   "id": "a10c499d",
   "metadata": {},
   "outputs": [
    {
     "data": {
      "text/plain": [
       "(515054, 8)"
      ]
     },
     "execution_count": 45,
     "metadata": {},
     "output_type": "execute_result"
    }
   ],
   "source": [
    "df3.shape"
   ]
  },
  {
   "cell_type": "code",
   "execution_count": 48,
   "id": "d5117168",
   "metadata": {},
   "outputs": [
    {
     "data": {
      "text/plain": [
       "1-5         222034\n",
       "5-10        102733\n",
       "<0.25        51090\n",
       "0.5-1        40733\n",
       "10-15        38552\n",
       "0.25-0.5     22827\n",
       "15-20        16269\n",
       "20-30        12236\n",
       "30-50         6233\n",
       ">50           2347\n",
       "Name: distance_interval, dtype: int64"
      ]
     },
     "execution_count": 48,
     "metadata": {},
     "output_type": "execute_result"
    }
   ],
   "source": [
    "df3['distance_interval'].value_counts()"
   ]
  },
  {
   "cell_type": "code",
   "execution_count": 50,
   "id": "33ce872a",
   "metadata": {},
   "outputs": [
    {
     "data": {
      "image/png": "[encoded data removed]",
      "text/plain": [
       "<Figure size 432x288 with 1 Axes>"
      ]
     },
     "metadata": {},
     "output_type": "display_data"
    }
   ],
   "source": [
    "ax = sns.countplot(x='distance_interval', data=df3) "
   ]
  },
  {
   "cell_type": "code",
   "execution_count": 51,
   "id": "db4dbebc",
   "metadata": {},
   "outputs": [
    {
     "data": {
      "text/plain": [
       "0.851930088883884"
      ]
     },
     "execution_count": 51,
     "metadata": {},
     "output_type": "execute_result"
    }
   ],
   "source": [
    "(222034+102733+38552+16269+40733+12236+6233)/515054"
   ]
  },
  {
   "cell_type": "code",
   "execution_count": 52,
   "id": "f8a5c6d8",
   "metadata": {},
   "outputs": [],
   "source": [
    "bins=np.array([0,600,1200,1800,3600,5400,7200])\n",
    "df['duration_time_minutes']=pd.cut(df.Actualduration,bins,labels=[\"<10\", \"10-20\", \"20-30\",\"30-60\",\"60-90\",\">90\"])"
   ]
  },
  {
   "cell_type": "code",
   "execution_count": 53,
   "id": "137dc0e4",
   "metadata": {},
   "outputs": [],
   "source": [
    "bins=np.array([0,5,10,11,12,13,14,15,100])\n",
    "df['point_interval']=pd.cut(df.AverageP,bins,labels=[\"<5\", \"5-10\", \"10-11\",\"11-12\",\"12-13\",\"13-14\",'14-15','>15'])"
   ]
  },
  {
   "cell_type": "code",
   "execution_count": 54,
   "id": "6f6b1fbe",
   "metadata": {},
   "outputs": [],
   "source": [
    "bins=np.array([0,0.25,0.5,1,5,10,15,20,30,50,100])\n",
    "df['distance_interval']=pd.cut(df.distance,bins,labels=[\"<0.25\",\"0.25-0.5\",'0.5-1', \"1-5\", \"5-10\",\"10-15\",\"15-20\",\"20-30\",'30-50','>50'])"
   ]
  },
  {
   "cell_type": "code",
   "execution_count": 55,
   "id": "9f3d7c3f",
   "metadata": {},
   "outputs": [
    {
     "data": {
      "text/html": [
       "<div>\n",
       "<style scoped>\n",
       "    .dataframe tbody tr th:only-of-type {\n",
       "        vertical-align: middle;\n",
       "    }\n",
       "\n",
       "    .dataframe tbody tr th {\n",
       "        vertical-align: top;\n",
       "    }\n",
       "\n",
       "    .dataframe thead th {\n",
       "        text-align: right;\n",
       "    }\n",
       "</style>\n",
       "<table border=\"1\" class=\"dataframe\">\n",
       "  <thead>\n",
       "    <tr style=\"text-align: right;\">\n",
       "      <th></th>\n",
       "      <th>driver_id</th>\n",
       "      <th>tripid</th>\n",
       "      <th>points</th>\n",
       "      <th>Actualduration</th>\n",
       "      <th>AverageP</th>\n",
       "      <th>distance</th>\n",
       "      <th>duration</th>\n",
       "      <th>duration_time_minutes</th>\n",
       "      <th>point_interval</th>\n",
       "      <th>distance_interval</th>\n",
       "    </tr>\n",
       "  </thead>\n",
       "  <tbody>\n",
       "    <tr>\n",
       "      <th>0</th>\n",
       "      <td>0001da624eada828c3f744b73bacd8e15cf0d3e288bd09...</td>\n",
       "      <td>181813898</td>\n",
       "      <td>62</td>\n",
       "      <td>631.0</td>\n",
       "      <td>10.177419</td>\n",
       "      <td>2.04</td>\n",
       "      <td>621.0</td>\n",
       "      <td>10-20</td>\n",
       "      <td>10-11</td>\n",
       "      <td>1-5</td>\n",
       "    </tr>\n",
       "    <tr>\n",
       "      <th>1</th>\n",
       "      <td>0001da624eada828c3f744b73bacd8e15cf0d3e288bd09...</td>\n",
       "      <td>181816907</td>\n",
       "      <td>453</td>\n",
       "      <td>5211.0</td>\n",
       "      <td>11.503311</td>\n",
       "      <td>18.02</td>\n",
       "      <td>5195.0</td>\n",
       "      <td>60-90</td>\n",
       "      <td>11-12</td>\n",
       "      <td>15-20</td>\n",
       "    </tr>\n",
       "    <tr>\n",
       "      <th>2</th>\n",
       "      <td>0001da624eada828c3f744b73bacd8e15cf0d3e288bd09...</td>\n",
       "      <td>181844705</td>\n",
       "      <td>91</td>\n",
       "      <td>911.0</td>\n",
       "      <td>10.010989</td>\n",
       "      <td>3.12</td>\n",
       "      <td>900.0</td>\n",
       "      <td>10-20</td>\n",
       "      <td>10-11</td>\n",
       "      <td>1-5</td>\n",
       "    </tr>\n",
       "    <tr>\n",
       "      <th>3</th>\n",
       "      <td>0001da624eada828c3f744b73bacd8e15cf0d3e288bd09...</td>\n",
       "      <td>181861325</td>\n",
       "      <td>76</td>\n",
       "      <td>769.0</td>\n",
       "      <td>10.118421</td>\n",
       "      <td>0.54</td>\n",
       "      <td>750.0</td>\n",
       "      <td>10-20</td>\n",
       "      <td>10-11</td>\n",
       "      <td>0.5-1</td>\n",
       "    </tr>\n",
       "    <tr>\n",
       "      <th>4</th>\n",
       "      <td>0001da624eada828c3f744b73bacd8e15cf0d3e288bd09...</td>\n",
       "      <td>181871430</td>\n",
       "      <td>54</td>\n",
       "      <td>546.0</td>\n",
       "      <td>10.111111</td>\n",
       "      <td>3.33</td>\n",
       "      <td>530.0</td>\n",
       "      <td>&lt;10</td>\n",
       "      <td>10-11</td>\n",
       "      <td>1-5</td>\n",
       "    </tr>\n",
       "    <tr>\n",
       "      <th>...</th>\n",
       "      <td>...</td>\n",
       "      <td>...</td>\n",
       "      <td>...</td>\n",
       "      <td>...</td>\n",
       "      <td>...</td>\n",
       "      <td>...</td>\n",
       "      <td>...</td>\n",
       "      <td>...</td>\n",
       "      <td>...</td>\n",
       "      <td>...</td>\n",
       "    </tr>\n",
       "    <tr>\n",
       "      <th>551131</th>\n",
       "      <td>ffefa9fc58deb38517fe5176a458e9cac5c125f15bae31...</td>\n",
       "      <td>198740997</td>\n",
       "      <td>169</td>\n",
       "      <td>3809.0</td>\n",
       "      <td>22.538462</td>\n",
       "      <td>0.56</td>\n",
       "      <td>1690.0</td>\n",
       "      <td>60-90</td>\n",
       "      <td>&gt;15</td>\n",
       "      <td>0.5-1</td>\n",
       "    </tr>\n",
       "    <tr>\n",
       "      <th>551132</th>\n",
       "      <td>fff4cf77e4aa669df808c1ea6644a7297ed41ff8ab4c63...</td>\n",
       "      <td>198710096</td>\n",
       "      <td>105</td>\n",
       "      <td>2971.0</td>\n",
       "      <td>28.295238</td>\n",
       "      <td>5.13</td>\n",
       "      <td>1040.0</td>\n",
       "      <td>30-60</td>\n",
       "      <td>&gt;15</td>\n",
       "      <td>5-10</td>\n",
       "    </tr>\n",
       "    <tr>\n",
       "      <th>551133</th>\n",
       "      <td>fff4cf77e4aa669df808c1ea6644a7297ed41ff8ab4c63...</td>\n",
       "      <td>198740263</td>\n",
       "      <td>20</td>\n",
       "      <td>3702.0</td>\n",
       "      <td>185.100000</td>\n",
       "      <td>1.79</td>\n",
       "      <td>190.0</td>\n",
       "      <td>60-90</td>\n",
       "      <td>NaN</td>\n",
       "      <td>1-5</td>\n",
       "    </tr>\n",
       "    <tr>\n",
       "      <th>551134</th>\n",
       "      <td>fff81139a7dd8a3a48f462347a5611b8e0b84258237d5d...</td>\n",
       "      <td>198740094</td>\n",
       "      <td>206</td>\n",
       "      <td>2059.0</td>\n",
       "      <td>9.995146</td>\n",
       "      <td>12.96</td>\n",
       "      <td>2050.0</td>\n",
       "      <td>30-60</td>\n",
       "      <td>5-10</td>\n",
       "      <td>10-15</td>\n",
       "    </tr>\n",
       "    <tr>\n",
       "      <th>551135</th>\n",
       "      <td>fffdbe5b5cc6c01d65c9c9a94ad9cd1dc8546b0b107c11...</td>\n",
       "      <td>198820049</td>\n",
       "      <td>10</td>\n",
       "      <td>2251.0</td>\n",
       "      <td>225.100000</td>\n",
       "      <td>0.00</td>\n",
       "      <td>90.0</td>\n",
       "      <td>30-60</td>\n",
       "      <td>NaN</td>\n",
       "      <td>NaN</td>\n",
       "    </tr>\n",
       "  </tbody>\n",
       "</table>\n",
       "<p>551136 rows × 10 columns</p>\n",
       "</div>"
      ],
      "text/plain": [
       "                                                driver_id     tripid  points  \\\n",
       "0       0001da624eada828c3f744b73bacd8e15cf0d3e288bd09...  181813898      62   \n",
       "1       0001da624eada828c3f744b73bacd8e15cf0d3e288bd09...  181816907     453   \n",
       "2       0001da624eada828c3f744b73bacd8e15cf0d3e288bd09...  181844705      91   \n",
       "3       0001da624eada828c3f744b73bacd8e15cf0d3e288bd09...  181861325      76   \n",
       "4       0001da624eada828c3f744b73bacd8e15cf0d3e288bd09...  181871430      54   \n",
       "...                                                   ...        ...     ...   \n",
       "551131  ffefa9fc58deb38517fe5176a458e9cac5c125f15bae31...  198740997     169   \n",
       "551132  fff4cf77e4aa669df808c1ea6644a7297ed41ff8ab4c63...  198710096     105   \n",
       "551133  fff4cf77e4aa669df808c1ea6644a7297ed41ff8ab4c63...  198740263      20   \n",
       "551134  fff81139a7dd8a3a48f462347a5611b8e0b84258237d5d...  198740094     206   \n",
       "551135  fffdbe5b5cc6c01d65c9c9a94ad9cd1dc8546b0b107c11...  198820049      10   \n",
       "\n",
       "        Actualduration    AverageP  distance  duration duration_time_minutes  \\\n",
       "0                631.0   10.177419      2.04     621.0                 10-20   \n",
       "1               5211.0   11.503311     18.02    5195.0                 60-90   \n",
       "2                911.0   10.010989      3.12     900.0                 10-20   \n",
       "3                769.0   10.118421      0.54     750.0                 10-20   \n",
       "4                546.0   10.111111      3.33     530.0                   <10   \n",
       "...                ...         ...       ...       ...                   ...   \n",
       "551131          3809.0   22.538462      0.56    1690.0                 60-90   \n",
       "551132          2971.0   28.295238      5.13    1040.0                 30-60   \n",
       "551133          3702.0  185.100000      1.79     190.0                 60-90   \n",
       "551134          2059.0    9.995146     12.96    2050.0                 30-60   \n",
       "551135          2251.0  225.100000      0.00      90.0                 30-60   \n",
       "\n",
       "       point_interval distance_interval  \n",
       "0               10-11               1-5  \n",
       "1               11-12             15-20  \n",
       "2               10-11               1-5  \n",
       "3               10-11             0.5-1  \n",
       "4               10-11               1-5  \n",
       "...               ...               ...  \n",
       "551131            >15             0.5-1  \n",
       "551132            >15              5-10  \n",
       "551133            NaN               1-5  \n",
       "551134           5-10             10-15  \n",
       "551135            NaN               NaN  \n",
       "\n",
       "[551136 rows x 10 columns]"
      ]
     },
     "execution_count": 55,
     "metadata": {},
     "output_type": "execute_result"
    }
   ],
   "source": [
    "df"
   ]
  },
  {
   "cell_type": "code",
   "execution_count": 56,
   "id": "005964f1",
   "metadata": {},
   "outputs": [],
   "source": [
    "df.drop(df.index[df['duration_time_minutes'] == '>90'], inplace = True)\n"
   ]
  },
  {
   "cell_type": "code",
   "execution_count": 57,
   "id": "2b3a4ebc",
   "metadata": {},
   "outputs": [],
   "source": [
    "df.drop(df.index[df['point_interval'] == '>15'], inplace = True)"
   ]
  },
  {
   "cell_type": "code",
   "execution_count": 58,
   "id": "f1b0e63b",
   "metadata": {},
   "outputs": [],
   "source": [
    "df.drop(df.index[df['point_interval'] == '<5'], inplace = True)"
   ]
  },
  {
   "cell_type": "code",
   "execution_count": 59,
   "id": "2970b796",
   "metadata": {},
   "outputs": [],
   "source": [
    "df.drop(df.index[df['point_interval'] == '14-15'], inplace = True)"
   ]
  },
  {
   "cell_type": "code",
   "execution_count": 60,
   "id": "3b60bdda",
   "metadata": {},
   "outputs": [],
   "source": [
    "df.drop(df.index[df['point_interval'] == '13-14'], inplace = True)"
   ]
  },
  {
   "cell_type": "code",
   "execution_count": 61,
   "id": "5f41cd1e",
   "metadata": {},
   "outputs": [],
   "source": [
    "df.drop(df.index[df['point_interval'] == '12-13'], inplace = True)"
   ]
  },
  {
   "cell_type": "code",
   "execution_count": 62,
   "id": "06ce582d",
   "metadata": {},
   "outputs": [
    {
     "data": {
      "text/html": [
       "<div>\n",
       "<style scoped>\n",
       "    .dataframe tbody tr th:only-of-type {\n",
       "        vertical-align: middle;\n",
       "    }\n",
       "\n",
       "    .dataframe tbody tr th {\n",
       "        vertical-align: top;\n",
       "    }\n",
       "\n",
       "    .dataframe thead th {\n",
       "        text-align: right;\n",
       "    }\n",
       "</style>\n",
       "<table border=\"1\" class=\"dataframe\">\n",
       "  <thead>\n",
       "    <tr style=\"text-align: right;\">\n",
       "      <th></th>\n",
       "      <th>driver_id</th>\n",
       "      <th>tripid</th>\n",
       "      <th>points</th>\n",
       "      <th>Actualduration</th>\n",
       "      <th>AverageP</th>\n",
       "      <th>distance</th>\n",
       "      <th>duration</th>\n",
       "      <th>duration_time_minutes</th>\n",
       "      <th>point_interval</th>\n",
       "      <th>distance_interval</th>\n",
       "    </tr>\n",
       "  </thead>\n",
       "  <tbody>\n",
       "    <tr>\n",
       "      <th>0</th>\n",
       "      <td>0001da624eada828c3f744b73bacd8e15cf0d3e288bd09...</td>\n",
       "      <td>181813898</td>\n",
       "      <td>62</td>\n",
       "      <td>631.0</td>\n",
       "      <td>10.177419</td>\n",
       "      <td>2.04</td>\n",
       "      <td>621.0</td>\n",
       "      <td>10-20</td>\n",
       "      <td>10-11</td>\n",
       "      <td>1-5</td>\n",
       "    </tr>\n",
       "    <tr>\n",
       "      <th>1</th>\n",
       "      <td>0001da624eada828c3f744b73bacd8e15cf0d3e288bd09...</td>\n",
       "      <td>181816907</td>\n",
       "      <td>453</td>\n",
       "      <td>5211.0</td>\n",
       "      <td>11.503311</td>\n",
       "      <td>18.02</td>\n",
       "      <td>5195.0</td>\n",
       "      <td>60-90</td>\n",
       "      <td>11-12</td>\n",
       "      <td>15-20</td>\n",
       "    </tr>\n",
       "    <tr>\n",
       "      <th>2</th>\n",
       "      <td>0001da624eada828c3f744b73bacd8e15cf0d3e288bd09...</td>\n",
       "      <td>181844705</td>\n",
       "      <td>91</td>\n",
       "      <td>911.0</td>\n",
       "      <td>10.010989</td>\n",
       "      <td>3.12</td>\n",
       "      <td>900.0</td>\n",
       "      <td>10-20</td>\n",
       "      <td>10-11</td>\n",
       "      <td>1-5</td>\n",
       "    </tr>\n",
       "    <tr>\n",
       "      <th>3</th>\n",
       "      <td>0001da624eada828c3f744b73bacd8e15cf0d3e288bd09...</td>\n",
       "      <td>181861325</td>\n",
       "      <td>76</td>\n",
       "      <td>769.0</td>\n",
       "      <td>10.118421</td>\n",
       "      <td>0.54</td>\n",
       "      <td>750.0</td>\n",
       "      <td>10-20</td>\n",
       "      <td>10-11</td>\n",
       "      <td>0.5-1</td>\n",
       "    </tr>\n",
       "    <tr>\n",
       "      <th>4</th>\n",
       "      <td>0001da624eada828c3f744b73bacd8e15cf0d3e288bd09...</td>\n",
       "      <td>181871430</td>\n",
       "      <td>54</td>\n",
       "      <td>546.0</td>\n",
       "      <td>10.111111</td>\n",
       "      <td>3.33</td>\n",
       "      <td>530.0</td>\n",
       "      <td>&lt;10</td>\n",
       "      <td>10-11</td>\n",
       "      <td>1-5</td>\n",
       "    </tr>\n",
       "    <tr>\n",
       "      <th>...</th>\n",
       "      <td>...</td>\n",
       "      <td>...</td>\n",
       "      <td>...</td>\n",
       "      <td>...</td>\n",
       "      <td>...</td>\n",
       "      <td>...</td>\n",
       "      <td>...</td>\n",
       "      <td>...</td>\n",
       "      <td>...</td>\n",
       "      <td>...</td>\n",
       "    </tr>\n",
       "    <tr>\n",
       "      <th>386755</th>\n",
       "      <td>ffefa9fc58deb38517fe5176a458e9cac5c125f15bae31...</td>\n",
       "      <td>198657035</td>\n",
       "      <td>87</td>\n",
       "      <td>864.0</td>\n",
       "      <td>9.931034</td>\n",
       "      <td>7.28</td>\n",
       "      <td>860.0</td>\n",
       "      <td>10-20</td>\n",
       "      <td>5-10</td>\n",
       "      <td>5-10</td>\n",
       "    </tr>\n",
       "    <tr>\n",
       "      <th>386756</th>\n",
       "      <td>ffefa9fc58deb38517fe5176a458e9cac5c125f15bae31...</td>\n",
       "      <td>198670521</td>\n",
       "      <td>198</td>\n",
       "      <td>1977.0</td>\n",
       "      <td>9.984848</td>\n",
       "      <td>10.05</td>\n",
       "      <td>1970.0</td>\n",
       "      <td>30-60</td>\n",
       "      <td>5-10</td>\n",
       "      <td>10-15</td>\n",
       "    </tr>\n",
       "    <tr>\n",
       "      <th>386757</th>\n",
       "      <td>fff4cf77e4aa669df808c1ea6644a7297ed41ff8ab4c63...</td>\n",
       "      <td>198740263</td>\n",
       "      <td>20</td>\n",
       "      <td>3702.0</td>\n",
       "      <td>185.100000</td>\n",
       "      <td>1.79</td>\n",
       "      <td>190.0</td>\n",
       "      <td>60-90</td>\n",
       "      <td>NaN</td>\n",
       "      <td>1-5</td>\n",
       "    </tr>\n",
       "    <tr>\n",
       "      <th>386758</th>\n",
       "      <td>fff81139a7dd8a3a48f462347a5611b8e0b84258237d5d...</td>\n",
       "      <td>198740094</td>\n",
       "      <td>206</td>\n",
       "      <td>2059.0</td>\n",
       "      <td>9.995146</td>\n",
       "      <td>12.96</td>\n",
       "      <td>2050.0</td>\n",
       "      <td>30-60</td>\n",
       "      <td>5-10</td>\n",
       "      <td>10-15</td>\n",
       "    </tr>\n",
       "    <tr>\n",
       "      <th>386759</th>\n",
       "      <td>fffdbe5b5cc6c01d65c9c9a94ad9cd1dc8546b0b107c11...</td>\n",
       "      <td>198820049</td>\n",
       "      <td>10</td>\n",
       "      <td>2251.0</td>\n",
       "      <td>225.100000</td>\n",
       "      <td>0.00</td>\n",
       "      <td>90.0</td>\n",
       "      <td>30-60</td>\n",
       "      <td>NaN</td>\n",
       "      <td>NaN</td>\n",
       "    </tr>\n",
       "  </tbody>\n",
       "</table>\n",
       "<p>386760 rows × 10 columns</p>\n",
       "</div>"
      ],
      "text/plain": [
       "                                                driver_id     tripid  points  \\\n",
       "0       0001da624eada828c3f744b73bacd8e15cf0d3e288bd09...  181813898      62   \n",
       "1       0001da624eada828c3f744b73bacd8e15cf0d3e288bd09...  181816907     453   \n",
       "2       0001da624eada828c3f744b73bacd8e15cf0d3e288bd09...  181844705      91   \n",
       "3       0001da624eada828c3f744b73bacd8e15cf0d3e288bd09...  181861325      76   \n",
       "4       0001da624eada828c3f744b73bacd8e15cf0d3e288bd09...  181871430      54   \n",
       "...                                                   ...        ...     ...   \n",
       "386755  ffefa9fc58deb38517fe5176a458e9cac5c125f15bae31...  198657035      87   \n",
       "386756  ffefa9fc58deb38517fe5176a458e9cac5c125f15bae31...  198670521     198   \n",
       "386757  fff4cf77e4aa669df808c1ea6644a7297ed41ff8ab4c63...  198740263      20   \n",
       "386758  fff81139a7dd8a3a48f462347a5611b8e0b84258237d5d...  198740094     206   \n",
       "386759  fffdbe5b5cc6c01d65c9c9a94ad9cd1dc8546b0b107c11...  198820049      10   \n",
       "\n",
       "        Actualduration    AverageP  distance  duration duration_time_minutes  \\\n",
       "0                631.0   10.177419      2.04     621.0                 10-20   \n",
       "1               5211.0   11.503311     18.02    5195.0                 60-90   \n",
       "2                911.0   10.010989      3.12     900.0                 10-20   \n",
       "3                769.0   10.118421      0.54     750.0                 10-20   \n",
       "4                546.0   10.111111      3.33     530.0                   <10   \n",
       "...                ...         ...       ...       ...                   ...   \n",
       "386755           864.0    9.931034      7.28     860.0                 10-20   \n",
       "386756          1977.0    9.984848     10.05    1970.0                 30-60   \n",
       "386757          3702.0  185.100000      1.79     190.0                 60-90   \n",
       "386758          2059.0    9.995146     12.96    2050.0                 30-60   \n",
       "386759          2251.0  225.100000      0.00      90.0                 30-60   \n",
       "\n",
       "       point_interval distance_interval  \n",
       "0               10-11               1-5  \n",
       "1               11-12             15-20  \n",
       "2               10-11               1-5  \n",
       "3               10-11             0.5-1  \n",
       "4               10-11               1-5  \n",
       "...               ...               ...  \n",
       "386755           5-10              5-10  \n",
       "386756           5-10             10-15  \n",
       "386757            NaN               1-5  \n",
       "386758           5-10             10-15  \n",
       "386759            NaN               NaN  \n",
       "\n",
       "[386760 rows x 10 columns]"
      ]
     },
     "execution_count": 62,
     "metadata": {},
     "output_type": "execute_result"
    }
   ],
   "source": [
    "df.reset_index(drop=True)"
   ]
  },
  {
   "cell_type": "code",
   "execution_count": 63,
   "id": "10715268",
   "metadata": {},
   "outputs": [],
   "source": [
    "df.drop(df.index[df['distance_interval'] == '>50'], inplace = True)"
   ]
  },
  {
   "cell_type": "code",
   "execution_count": 64,
   "id": "09543f23",
   "metadata": {},
   "outputs": [
    {
     "data": {
      "text/plain": [
       "(385701, 10)"
      ]
     },
     "execution_count": 64,
     "metadata": {},
     "output_type": "execute_result"
    }
   ],
   "source": [
    "df.shape"
   ]
  },
  {
   "cell_type": "code",
   "execution_count": 79,
   "id": "c063a448",
   "metadata": {},
   "outputs": [],
   "source": [
    "#df.to_csv('clean_gps.csv')"
   ]
  },
  {
   "cell_type": "code",
   "execution_count": null,
   "id": "ba0949f1",
   "metadata": {},
   "outputs": [],
   "source": []
  }
 ],
 "metadata": {
  "kernelspec": {
   "display_name": "Python 3 (ipykernel)",
   "language": "python",
   "name": "python3"
  },
  "language_info": {
   "codemirror_mode": {
    "name": "ipython",
    "version": 3
   },
   "file_extension": ".py",
   "mimetype": "text/x-python",
   "name": "python",
   "nbconvert_exporter": "python",
   "pygments_lexer": "ipython3",
   "version": "3.9.6"
  }
 },
 "nbformat": 4,
 "nbformat_minor": 5
}
