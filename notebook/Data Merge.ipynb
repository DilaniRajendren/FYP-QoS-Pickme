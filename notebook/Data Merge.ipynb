{
 "cells": [
  {
   "cell_type": "code",
   "execution_count": 1,
   "id": "51419c6d",
   "metadata": {},
   "outputs": [],
   "source": [
    "import pandas as pd"
   ]
  },
  {
   "cell_type": "code",
   "execution_count": 28,
   "id": "5793921c",
   "metadata": {},
   "outputs": [],
   "source": [
    "path1=\"D:/trip_driver_data/trip_driver_data/2019-12-11/date=2019-12-11-part-0-5000.csv\"\n",
    "path2=\"D:/trip_driver_data/trip_driver_data/2019-12-11/date=2019-12-11-part-1-5000-10000.csv\"\n",
    "path3=\"D:/trip_driver_data/trip_driver_data/2019-12-11/date=2019-12-11-part-5-10000-11000.csv\"\n",
    "#path4=\"D:/trip_driver_data/trip_driver_data/2019-12-09/date=2019-12-9-part-3-11000-15208.csv\"\n",
    "#path5=\"D:/trip_driver_data/trip_driver_data/2019-11-01/date=2019-11-02-part2-13500-end.csv\"\n",
    "#path6=\"D:/trip_driver_data/trip_driver_data/2019-11-01/date=2019-11-01-part4-11000-12500.csv\"\n",
    "#path7=\"D:/trip_driver_data/trip_driver_data/2019-11-01/date=2019-11-01-part5-12500-end.csv\"\n"
   ]
  },
  {
   "cell_type": "code",
   "execution_count": 29,
   "id": "cbd39be3",
   "metadata": {},
   "outputs": [],
   "source": [
    "df1=pd.read_csv(path1)\n",
    "df2=pd.read_csv(path2)\n",
    "df3=pd.read_csv(path3)\n",
    "#df4=pd.read_csv(path4)\n",
    "#df5=pd.read_csv(path5)\n",
    "#df6=pd.read_csv(path6)\n",
    "#df7=pd.read_csv(path7)"
   ]
  },
  {
   "cell_type": "code",
   "execution_count": 30,
   "id": "4c80709b",
   "metadata": {},
   "outputs": [],
   "source": [
    "df=pd.concat([df1, df2,df3])\n"
   ]
  },
  {
   "cell_type": "code",
   "execution_count": 31,
   "id": "8c36d996",
   "metadata": {},
   "outputs": [],
   "source": [
    "df.to_csv('date=2019-12-11-full.csv', index=False)"
   ]
  },
  {
   "cell_type": "code",
   "execution_count": null,
   "id": "6a1dfe16",
   "metadata": {},
   "outputs": [],
   "source": []
  },
  {
   "cell_type": "code",
   "execution_count": null,
   "id": "bbb68b3f",
   "metadata": {},
   "outputs": [],
   "source": []
  }
 ],
 "metadata": {
  "kernelspec": {
   "display_name": "Python 3 (ipykernel)",
   "language": "python",
   "name": "python3"
  },
  "language_info": {
   "codemirror_mode": {
    "name": "ipython",
    "version": 3
   },
   "file_extension": ".py",
   "mimetype": "text/x-python",
   "name": "python",
   "nbconvert_exporter": "python",
   "pygments_lexer": "ipython3",
   "version": "3.9.6"
  }
 },
 "nbformat": 4,
 "nbformat_minor": 5
}
