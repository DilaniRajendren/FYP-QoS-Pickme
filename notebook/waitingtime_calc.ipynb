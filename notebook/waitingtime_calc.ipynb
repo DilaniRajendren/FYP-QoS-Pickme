{
 "cells": [
  {
   "cell_type": "code",
   "execution_count": 2,
   "metadata": {},
   "outputs": [
    {
     "data": {
      "text/plain": [
       "'/opt/spark-2.4.5'"
      ]
     },
     "execution_count": 2,
     "metadata": {},
     "output_type": "execute_result"
    }
   ],
   "source": [
    "import findspark\n",
    "findspark.init()\n",
    "findspark.find()\n",
    "import pyspark\n",
    "findspark.find()"
   ]
  },
  {
   "cell_type": "code",
   "execution_count": 3,
   "metadata": {},
   "outputs": [],
   "source": [
    "from pyspark import SparkContext, SparkConf\n",
    "from pyspark.sql import SparkSession\n",
    "from pyspark import SparkContext, SparkConf\n",
    "from pyspark.sql import SparkSession\n",
    "from pyspark.sql import SQLContext\n",
    "from pyspark.sql.functions import udf\n",
    "from datetime import datetime\n",
    "from sklearn.cluster import DBSCAN\n",
    "from collections import Counter\n",
    "from sklearn.preprocessing import StandardScaler\n",
    "import matplotlib.pyplot as plt\n",
    "from pylab import rcParams\n",
    "rcParams['figure.figsize']= 20,20\n",
    "%matplotlib inline\n",
    "import numpy as np\n",
    "import pandas as pd\n",
    " \n",
    " "
   ]
  },
  {
   "cell_type": "code",
   "execution_count": 4,
   "metadata": {},
   "outputs": [],
   "source": [
    "spark = SparkSession.builder \\\n",
    "    .master(\"local\") \\\n",
    "    .appName(\"Word Count\") \\\n",
    "    .config(\"spark.some.config.option\", \"some-value\") \\\n",
    "    .getOrCreate()"
   ]
  },
  {
   "cell_type": "code",
   "execution_count": 5,
   "metadata": {},
   "outputs": [],
   "source": [
    "s=spark.sparkContext"
   ]
  },
  {
   "cell_type": "code",
   "execution_count": 6,
   "metadata": {},
   "outputs": [],
   "source": [
    "sql_c=SQLContext(s)\n",
    "trip= sql_c.read.orc('/FYP/huntersfyp17/dropdatesk=20191108/part*')"
   ]
  },
  {
   "cell_type": "code",
   "execution_count": 7,
   "metadata": {},
   "outputs": [
    {
     "data": {
      "text/plain": [
       "DataFrame[tripid: int, passengerid: string, driverid: string, taximodelid: int, pickuplatitude: decimal(15,10), pickuplongitude: decimal(15,10), droplatitude: decimal(15,10), droplongitude: decimal(15,10), pickuptime: timestamp, actualpickuptime: timestamp, actualpickupdatesk: int, dispatchtime: timestamp, droptime: timestamp, comments: string, travelstatus: int, createddate: timestamp, createddatesk: int, driverrating: int, drivercomment: string]"
      ]
     },
     "execution_count": 7,
     "metadata": {},
     "output_type": "execute_result"
    }
   ],
   "source": [
    "trip"
   ]
  },
  {
   "cell_type": "code",
   "execution_count": 44,
   "metadata": {},
   "outputs": [],
   "source": [
    "def getDriverTripDF(driverid):\n",
    "    driver_td_df=trip.select([\"tripid\",\"driverid\",\"pickuplatitude\",\"pickuplongitude\",\"droplatitude\",\"droplongitude\",\"pickuptime\", \"actualpickuptime\",\"droptime\"]).where(trip.driverid == driverid ).sort(\"tripid\").collect()\n",
    "    columns=[\"tripid\",\"driverid\",\"pickuplatitude\",\"pickuplongitude\",\"droplatitude\",\"droplongitude\",\"pickuptime\" ,\"actualpickuptime\",\"droptime\"]\n",
    "    df_trip_driver = pd.DataFrame(driver_td_df, columns=columns)\n",
    "    \n",
    "    return df_trip_driver"
   ]
  },
  {
   "cell_type": "code",
   "execution_count": 45,
   "metadata": {},
   "outputs": [
    {
     "data": {
      "text/html": [
       "<div>\n",
       "<style scoped>\n",
       "    .dataframe tbody tr th:only-of-type {\n",
       "        vertical-align: middle;\n",
       "    }\n",
       "\n",
       "    .dataframe tbody tr th {\n",
       "        vertical-align: top;\n",
       "    }\n",
       "\n",
       "    .dataframe thead th {\n",
       "        text-align: right;\n",
       "    }\n",
       "</style>\n",
       "<table border=\"1\" class=\"dataframe\">\n",
       "  <thead>\n",
       "    <tr style=\"text-align: right;\">\n",
       "      <th></th>\n",
       "      <th>tripid</th>\n",
       "      <th>driverid</th>\n",
       "      <th>pickuplatitude</th>\n",
       "      <th>pickuplongitude</th>\n",
       "      <th>droplatitude</th>\n",
       "      <th>droplongitude</th>\n",
       "      <th>pickuptime</th>\n",
       "      <th>actualpickuptime</th>\n",
       "      <th>droptime</th>\n",
       "    </tr>\n",
       "  </thead>\n",
       "  <tbody>\n",
       "    <tr>\n",
       "      <th>0</th>\n",
       "      <td>189261598</td>\n",
       "      <td>4e1020dee5af4da54b0ef441f565971777785152292a18...</td>\n",
       "      <td>6.8583200000</td>\n",
       "      <td>79.9281000000</td>\n",
       "      <td>6.8858200000</td>\n",
       "      <td>79.8871000000</td>\n",
       "      <td>2019-11-08 11:52:37</td>\n",
       "      <td>2019-11-08 11:54:35</td>\n",
       "      <td>2019-11-08 12:14:19</td>\n",
       "    </tr>\n",
       "    <tr>\n",
       "      <th>1</th>\n",
       "      <td>189267005</td>\n",
       "      <td>4e1020dee5af4da54b0ef441f565971777785152292a18...</td>\n",
       "      <td>6.8890600000</td>\n",
       "      <td>79.8877000000</td>\n",
       "      <td>6.8638400000</td>\n",
       "      <td>79.8872000000</td>\n",
       "      <td>2019-11-08 12:15:15</td>\n",
       "      <td>2019-11-08 12:20:47</td>\n",
       "      <td>2019-11-08 12:32:16</td>\n",
       "    </tr>\n",
       "    <tr>\n",
       "      <th>2</th>\n",
       "      <td>189274391</td>\n",
       "      <td>4e1020dee5af4da54b0ef441f565971777785152292a18...</td>\n",
       "      <td>6.8653900000</td>\n",
       "      <td>79.8916000000</td>\n",
       "      <td>6.8076200000</td>\n",
       "      <td>79.9930000000</td>\n",
       "      <td>2019-11-08 12:32:35</td>\n",
       "      <td>2019-11-08 12:42:46</td>\n",
       "      <td>2019-11-08 13:34:09</td>\n",
       "    </tr>\n",
       "    <tr>\n",
       "      <th>3</th>\n",
       "      <td>189297318</td>\n",
       "      <td>4e1020dee5af4da54b0ef441f565971777785152292a18...</td>\n",
       "      <td>6.7896900000</td>\n",
       "      <td>79.9914000000</td>\n",
       "      <td>6.8092600000</td>\n",
       "      <td>79.9869000000</td>\n",
       "      <td>2019-11-08 13:36:04</td>\n",
       "      <td>2019-11-08 13:51:49</td>\n",
       "      <td>2019-11-08 13:53:39</td>\n",
       "    </tr>\n",
       "    <tr>\n",
       "      <th>4</th>\n",
       "      <td>189308693</td>\n",
       "      <td>4e1020dee5af4da54b0ef441f565971777785152292a18...</td>\n",
       "      <td>6.8162800000</td>\n",
       "      <td>79.9745000000</td>\n",
       "      <td>6.8320100000</td>\n",
       "      <td>79.9641000000</td>\n",
       "      <td>2019-11-08 14:05:29</td>\n",
       "      <td>2019-11-08 14:10:04</td>\n",
       "      <td>2019-11-08 14:16:50</td>\n",
       "    </tr>\n",
       "    <tr>\n",
       "      <th>5</th>\n",
       "      <td>189312558</td>\n",
       "      <td>4e1020dee5af4da54b0ef441f565971777785152292a18...</td>\n",
       "      <td>6.8261600000</td>\n",
       "      <td>79.9689000000</td>\n",
       "      <td>6.8283700000</td>\n",
       "      <td>79.9663000000</td>\n",
       "      <td>2019-11-08 14:18:31</td>\n",
       "      <td>2019-11-08 14:32:44</td>\n",
       "      <td>2019-11-08 14:33:43</td>\n",
       "    </tr>\n",
       "    <tr>\n",
       "      <th>6</th>\n",
       "      <td>189316347</td>\n",
       "      <td>4e1020dee5af4da54b0ef441f565971777785152292a18...</td>\n",
       "      <td>6.8390800000</td>\n",
       "      <td>79.9650000000</td>\n",
       "      <td>6.9621700000</td>\n",
       "      <td>79.8814000000</td>\n",
       "      <td>2019-11-08 14:33:51</td>\n",
       "      <td>2019-11-08 14:39:25</td>\n",
       "      <td>2019-11-08 15:39:30</td>\n",
       "    </tr>\n",
       "    <tr>\n",
       "      <th>7</th>\n",
       "      <td>189327881</td>\n",
       "      <td>4e1020dee5af4da54b0ef441f565971777785152292a18...</td>\n",
       "      <td>6.9649500000</td>\n",
       "      <td>79.8756000000</td>\n",
       "      <td>6.9198100000</td>\n",
       "      <td>79.8689000000</td>\n",
       "      <td>2019-11-08 15:41:57</td>\n",
       "      <td>2019-11-08 15:51:31</td>\n",
       "      <td>2019-11-08 16:29:13</td>\n",
       "    </tr>\n",
       "    <tr>\n",
       "      <th>8</th>\n",
       "      <td>189337482</td>\n",
       "      <td>4e1020dee5af4da54b0ef441f565971777785152292a18...</td>\n",
       "      <td>6.9163000000</td>\n",
       "      <td>79.8666000000</td>\n",
       "      <td>6.9864500000</td>\n",
       "      <td>79.9310000000</td>\n",
       "      <td>2019-11-08 16:48:53</td>\n",
       "      <td>2019-11-08 16:53:13</td>\n",
       "      <td>2019-11-08 17:43:30</td>\n",
       "    </tr>\n",
       "    <tr>\n",
       "      <th>9</th>\n",
       "      <td>189393948</td>\n",
       "      <td>4e1020dee5af4da54b0ef441f565971777785152292a18...</td>\n",
       "      <td>6.9090700000</td>\n",
       "      <td>79.8544000000</td>\n",
       "      <td>6.9339800000</td>\n",
       "      <td>79.8702000000</td>\n",
       "      <td>2019-11-08 19:30:06</td>\n",
       "      <td>2019-11-08 19:39:55</td>\n",
       "      <td>2019-11-08 20:01:10</td>\n",
       "    </tr>\n",
       "    <tr>\n",
       "      <th>10</th>\n",
       "      <td>189491699</td>\n",
       "      <td>4e1020dee5af4da54b0ef441f565971777785152292a18...</td>\n",
       "      <td>6.8311700000</td>\n",
       "      <td>79.9109000000</td>\n",
       "      <td>6.8310800000</td>\n",
       "      <td>79.9109000000</td>\n",
       "      <td>2019-11-08 21:15:16</td>\n",
       "      <td>2019-11-08 21:24:08</td>\n",
       "      <td>2019-11-08 22:49:13</td>\n",
       "    </tr>\n",
       "    <tr>\n",
       "      <th>11</th>\n",
       "      <td>189520827</td>\n",
       "      <td>4e1020dee5af4da54b0ef441f565971777785152292a18...</td>\n",
       "      <td>6.8344800000</td>\n",
       "      <td>79.9145000000</td>\n",
       "      <td>6.8413800000</td>\n",
       "      <td>79.9048000000</td>\n",
       "      <td>2019-11-08 22:56:33</td>\n",
       "      <td>2019-11-08 23:00:49</td>\n",
       "      <td>2019-11-08 23:07:17</td>\n",
       "    </tr>\n",
       "    <tr>\n",
       "      <th>12</th>\n",
       "      <td>189528451</td>\n",
       "      <td>4e1020dee5af4da54b0ef441f565971777785152292a18...</td>\n",
       "      <td>6.8416400000</td>\n",
       "      <td>79.9065000000</td>\n",
       "      <td>6.8127600000</td>\n",
       "      <td>79.8816000000</td>\n",
       "      <td>2019-11-08 23:15:12</td>\n",
       "      <td>2019-11-08 23:17:01</td>\n",
       "      <td>2019-11-08 23:37:41</td>\n",
       "    </tr>\n",
       "    <tr>\n",
       "      <th>13</th>\n",
       "      <td>189583686</td>\n",
       "      <td>4e1020dee5af4da54b0ef441f565971777785152292a18...</td>\n",
       "      <td>6.8411600000</td>\n",
       "      <td>79.9025000000</td>\n",
       "      <td>6.8620800000</td>\n",
       "      <td>79.9295000000</td>\n",
       "      <td>2019-11-09 00:44:32</td>\n",
       "      <td>2019-11-09 00:48:06</td>\n",
       "      <td>2019-11-09 01:05:31</td>\n",
       "    </tr>\n",
       "  </tbody>\n",
       "</table>\n",
       "</div>"
      ],
      "text/plain": [
       "       tripid                                           driverid  \\\n",
       "0   189261598  4e1020dee5af4da54b0ef441f565971777785152292a18...   \n",
       "1   189267005  4e1020dee5af4da54b0ef441f565971777785152292a18...   \n",
       "2   189274391  4e1020dee5af4da54b0ef441f565971777785152292a18...   \n",
       "3   189297318  4e1020dee5af4da54b0ef441f565971777785152292a18...   \n",
       "4   189308693  4e1020dee5af4da54b0ef441f565971777785152292a18...   \n",
       "5   189312558  4e1020dee5af4da54b0ef441f565971777785152292a18...   \n",
       "6   189316347  4e1020dee5af4da54b0ef441f565971777785152292a18...   \n",
       "7   189327881  4e1020dee5af4da54b0ef441f565971777785152292a18...   \n",
       "8   189337482  4e1020dee5af4da54b0ef441f565971777785152292a18...   \n",
       "9   189393948  4e1020dee5af4da54b0ef441f565971777785152292a18...   \n",
       "10  189491699  4e1020dee5af4da54b0ef441f565971777785152292a18...   \n",
       "11  189520827  4e1020dee5af4da54b0ef441f565971777785152292a18...   \n",
       "12  189528451  4e1020dee5af4da54b0ef441f565971777785152292a18...   \n",
       "13  189583686  4e1020dee5af4da54b0ef441f565971777785152292a18...   \n",
       "\n",
       "   pickuplatitude pickuplongitude  droplatitude  droplongitude  \\\n",
       "0    6.8583200000   79.9281000000  6.8858200000  79.8871000000   \n",
       "1    6.8890600000   79.8877000000  6.8638400000  79.8872000000   \n",
       "2    6.8653900000   79.8916000000  6.8076200000  79.9930000000   \n",
       "3    6.7896900000   79.9914000000  6.8092600000  79.9869000000   \n",
       "4    6.8162800000   79.9745000000  6.8320100000  79.9641000000   \n",
       "5    6.8261600000   79.9689000000  6.8283700000  79.9663000000   \n",
       "6    6.8390800000   79.9650000000  6.9621700000  79.8814000000   \n",
       "7    6.9649500000   79.8756000000  6.9198100000  79.8689000000   \n",
       "8    6.9163000000   79.8666000000  6.9864500000  79.9310000000   \n",
       "9    6.9090700000   79.8544000000  6.9339800000  79.8702000000   \n",
       "10   6.8311700000   79.9109000000  6.8310800000  79.9109000000   \n",
       "11   6.8344800000   79.9145000000  6.8413800000  79.9048000000   \n",
       "12   6.8416400000   79.9065000000  6.8127600000  79.8816000000   \n",
       "13   6.8411600000   79.9025000000  6.8620800000  79.9295000000   \n",
       "\n",
       "            pickuptime    actualpickuptime            droptime  \n",
       "0  2019-11-08 11:52:37 2019-11-08 11:54:35 2019-11-08 12:14:19  \n",
       "1  2019-11-08 12:15:15 2019-11-08 12:20:47 2019-11-08 12:32:16  \n",
       "2  2019-11-08 12:32:35 2019-11-08 12:42:46 2019-11-08 13:34:09  \n",
       "3  2019-11-08 13:36:04 2019-11-08 13:51:49 2019-11-08 13:53:39  \n",
       "4  2019-11-08 14:05:29 2019-11-08 14:10:04 2019-11-08 14:16:50  \n",
       "5  2019-11-08 14:18:31 2019-11-08 14:32:44 2019-11-08 14:33:43  \n",
       "6  2019-11-08 14:33:51 2019-11-08 14:39:25 2019-11-08 15:39:30  \n",
       "7  2019-11-08 15:41:57 2019-11-08 15:51:31 2019-11-08 16:29:13  \n",
       "8  2019-11-08 16:48:53 2019-11-08 16:53:13 2019-11-08 17:43:30  \n",
       "9  2019-11-08 19:30:06 2019-11-08 19:39:55 2019-11-08 20:01:10  \n",
       "10 2019-11-08 21:15:16 2019-11-08 21:24:08 2019-11-08 22:49:13  \n",
       "11 2019-11-08 22:56:33 2019-11-08 23:00:49 2019-11-08 23:07:17  \n",
       "12 2019-11-08 23:15:12 2019-11-08 23:17:01 2019-11-08 23:37:41  \n",
       "13 2019-11-09 00:44:32 2019-11-09 00:48:06 2019-11-09 01:05:31  "
      ]
     },
     "execution_count": 45,
     "metadata": {},
     "output_type": "execute_result"
    }
   ],
   "source": [
    "df_trip_driver=getDriverTripDF(\"4e1020dee5af4da54b0ef441f565971777785152292a1877a2e98a9c6e223ab4\")\n",
    "df_trip_driver"
   ]
  },
  {
   "cell_type": "code",
   "execution_count": 46,
   "metadata": {},
   "outputs": [],
   "source": [
    "for num in df_trip_driver.index:\n",
    "    df_trip_driver.loc[num,'waitingtime'] =(df_trip_driver['droptime'][num]-df_trip_driver['actualpickuptime'][num]).total_seconds()/60"
   ]
  },
  {
   "cell_type": "code",
   "execution_count": 47,
   "metadata": {},
   "outputs": [
    {
     "name": "stdout",
     "output_type": "stream",
     "text": [
      "<class 'pandas.core.frame.DataFrame'>\n",
      "RangeIndex: 14 entries, 0 to 13\n",
      "Data columns (total 10 columns):\n",
      " #   Column            Non-Null Count  Dtype         \n",
      "---  ------            --------------  -----         \n",
      " 0   tripid            14 non-null     int64         \n",
      " 1   driverid          14 non-null     object        \n",
      " 2   pickuplatitude    14 non-null     object        \n",
      " 3   pickuplongitude   14 non-null     object        \n",
      " 4   droplatitude      14 non-null     object        \n",
      " 5   droplongitude     14 non-null     object        \n",
      " 6   pickuptime        14 non-null     datetime64[ns]\n",
      " 7   actualpickuptime  14 non-null     datetime64[ns]\n",
      " 8   droptime          14 non-null     datetime64[ns]\n",
      " 9   waitingtime       14 non-null     float64       \n",
      "dtypes: datetime64[ns](3), float64(1), int64(1), object(5)\n",
      "memory usage: 1.2+ KB\n"
     ]
    }
   ],
   "source": [
    "df_trip_driver.info()"
   ]
  },
  {
   "cell_type": "code",
   "execution_count": 54,
   "metadata": {},
   "outputs": [],
   "source": [
    "path=\"driver.txt\"\n",
    "f = open(path, \"r\")\n",
    "driverlist=f.readlines()\n"
   ]
  },
  {
   "cell_type": "code",
   "execution_count": 62,
   "metadata": {},
   "outputs": [
    {
     "data": {
      "text/plain": [
       "'0038263cc90dfa55d621a6425e46020136a318d12b974340f518892a6ef690ff\\n'"
      ]
     },
     "execution_count": 62,
     "metadata": {},
     "output_type": "execute_result"
    }
   ],
   "source": []
  },
  {
   "cell_type": "code",
   "execution_count": 65,
   "metadata": {},
   "outputs": [
    {
     "data": {
      "text/plain": [
       "'0038263cc90dfa55d621a6425e46020136a318d12b974340f518892a6ef690ff'"
      ]
     },
     "execution_count": 65,
     "metadata": {},
     "output_type": "execute_result"
    }
   ],
   "source": [
    "driverlist[0][:-1]"
   ]
  },
  {
   "cell_type": "code",
   "execution_count": null,
   "metadata": {},
   "outputs": [],
   "source": []
  }
 ],
 "metadata": {
  "kernelspec": {
   "display_name": "Python 3",
   "language": "python",
   "name": "python3"
  },
  "language_info": {
   "codemirror_mode": {
    "name": "ipython",
    "version": 3
   },
   "file_extension": ".py",
   "mimetype": "text/x-python",
   "name": "python",
   "nbconvert_exporter": "python",
   "pygments_lexer": "ipython3",
   "version": "3.6.8"
  }
 },
 "nbformat": 4,
 "nbformat_minor": 4
}
